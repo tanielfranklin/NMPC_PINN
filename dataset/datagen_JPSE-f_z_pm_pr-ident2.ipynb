{
 "cells": [
  {
   "cell_type": "markdown",
   "metadata": {
    "collapsed": true,
    "pycharm": {
     "name": "#%% md\n"
    }
   },
   "source": [
    "### Importação Inicial\n"
   ]
  },
  {
   "cell_type": "code",
   "execution_count": 77,
   "metadata": {
    "pycharm": {
     "name": "#%%\n"
    }
   },
   "outputs": [
    {
     "name": "stdout",
     "output_type": "stream",
     "text": [
      "Dados carregados\n"
     ]
    }
   ],
   "source": [
    "import matplotlib.pyplot as plt\n",
    "import tensorflow as tf\n",
    "import scipy as sp\n",
    "from scipy import signal\n",
    "import numpy as np\n",
    "from subrotinas import *\n",
    "#from envelope import *\n",
    "exec(compile(open('param.py', \"rb\").read(), 'param.py', 'exec')) #% Roda arquivo com parâmetros do modelo BCS\n",
    "%matplotlib tk"
   ]
  },
  {
   "cell_type": "markdown",
   "metadata": {
    "pycharm": {
     "name": "#%% md\n"
    }
   },
   "source": [
    "### Definições\n",
    "\n",
    "Variáveis de entrada\n",
    "f $\\in$ (35,65) Hz <br>\n",
    "zc $\\in$ (0,100)% <br>\n",
    "pm $\\in$ ($2\\cdot 10^6$) <br>\n",
    "pr\n",
    "\n",
    "### Variáveis de estado\n",
    "pbh $\\in$ ($10^5, 8.5 \\cdot 10^6$) <br>\n",
    "pwh $\\in$ ($2 \\cdot 10^6, 5.2\\cdot10^6$) <br>\n",
    "q $\\in (10^{-2},3\\cdot 10^{⁻2})$ <br>\n",
    "\n"
   ]
  },
  {
   "cell_type": "markdown",
   "metadata": {
    "pycharm": {
     "name": "#%% md\n"
    }
   },
   "source": [
    "Definindo os fatores de ajuste de escala a partir dos limites operacionais"
   ]
  },
  {
   "cell_type": "code",
   "execution_count": 78,
   "metadata": {
    "collapsed": false,
    "pycharm": {
     "name": "#%%\n"
    }
   },
   "outputs": [],
   "source": [
    "# Valores máximos e mínimos para normalização\n",
    "#Entradas - conforme binder e pavlov\n",
    "def Lim_c(x):\n",
    "    return x[1]-x[0]\n",
    "f_lim=(30,75)\n",
    "zclim=(0,1)\n",
    "pmlim=(1e5,50e5)\n",
    "pbhlim=(1e5,pr) \n",
    "pwhlim=(1e5,50e5) \n",
    "qlim=(15/3600,65/3600)\n",
    "pbc=Lim_c(pbhlim)\n",
    "pwc=Lim_c(pwhlim)\n",
    "qc=Lim_c(qlim)\n",
    "pbmin=pbhlim[0]\n",
    "pwmin=pwhlim[0]\n",
    "qmin=qlim[0]\n",
    "H_lim=(-136.31543417849096, 1420.7697113483912)\n",
    "qch_lim=(0.0, 0.03290348005910621)\n",
    "\n"
   ]
  },
  {
   "cell_type": "code",
   "execution_count": 79,
   "metadata": {
    "pycharm": {
     "name": "#%%\n"
    }
   },
   "outputs": [],
   "source": [
    "pm=20e5; #Simplificando pm fixo\n",
    "#pbh  - pressão na bomba\n",
    "#pwh - Pressão de fundo do poço,\n",
    "#q - vazão\n",
    "#PI índice de produtividade do poço\n",
    "#PinC  pressão na choke\n",
    "# Pressão de manifold"
   ]
  },
  {
   "cell_type": "markdown",
   "metadata": {
    "pycharm": {
     "name": "#%% md\n"
    }
   },
   "source": [
    "### Definindo as variáveis simbólicas"
   ]
  },
  {
   "cell_type": "code",
   "execution_count": 80,
   "metadata": {
    "pycharm": {
     "name": "#%%\n"
    }
   },
   "outputs": [],
   "source": [
    "# Criando simbolica\n",
    "from casadi import *\n",
    "nx = 3; nu = 4;\n",
    "x = MX.sym(\"x\",nx); # Estados\n",
    "u = MX.sym(\"u\",nu); # Exogena\n",
    "dudt_max = MX.sym(\"dudt_max\",2); # Exogena\n",
    "pbh = x[0]\n",
    "pwh = x[1]\n",
    "q = x[2]\n",
    "#fq = x[3]; zc = x[4]"
   ]
  },
  {
   "cell_type": "code",
   "execution_count": 81,
   "metadata": {
    "pycharm": {
     "name": "#%%\n"
    }
   },
   "outputs": [],
   "source": [
    "# Entradas\n",
    "\n",
    "fq = u[0]; zc = u[1]; pm=u[2]; pr=u[3]\n",
    "#pm=2e6;\n",
    "# zc=zcref \n",
    "# fq=fqref"
   ]
  },
  {
   "cell_type": "code",
   "execution_count": 82,
   "metadata": {},
   "outputs": [
    {
     "data": {
      "text/plain": [
       "MX(u[0])"
      ]
     },
     "execution_count": 82,
     "metadata": {},
     "output_type": "execute_result"
    }
   ],
   "source": [
    "fq"
   ]
  },
  {
   "cell_type": "code",
   "execution_count": 83,
   "metadata": {
    "pycharm": {
     "name": "#%%\n"
    }
   },
   "outputs": [
    {
     "name": "stdout",
     "output_type": "stream",
     "text": [
      "Limites: pbh,pwh,q\n",
      "(100000.0, 12600000.0) (100000.0, 5000000.0) (0.004166666666666667, 0.018055555555555554)\n",
      "Limites: F1,F2,H,qch\n",
      "(DM(99811.5), DM(107923)) (DM(239548), DM(259016)) (-136.31543417849096, 1420.7697113483912) (0.0, 0.03290348005910621)\n"
     ]
    }
   ],
   "source": [
    "# Calculo do HEAD e delta de press�o\n",
    "q0 = (q*qc+qmin) / Cq * (f0 / fq)\n",
    "H0 = -1.2454e6 * q0 ** 2 + 7.4959e3 * q0 + 9.5970e2\n",
    "H = CH * H0 * (fq / f0) ** 2  # Head\n",
    "#Pp = rho * g * H  # Delta de press�o\n",
    "\n",
    "# Calculo da Potencia e corrente da bomba\n",
    "P0 = -2.3599e9 * q0 ** 3 - 1.8082e7 * q0 ** 2 + 4.3346e6 * q0 + 9.4355e4\n",
    "P = Cp * P0 * (fq / f0) ** 3;  # Potencia\n",
    "I = Inp * P / Pnp  # Corrente\n",
    "\n",
    "# Calculo da press�o de intake\n",
    "F1 = 0.158 * ((rho * L1 * ((q*qc+qmin)) ** 2) / (D1 * A1 ** 2)) * (mu / (rho * D1 * ((q*qc+qmin)))) ** (1 / 4)\n",
    "F2 = 0.158 * ((rho * L2 * ((q*qc+qmin)) ** 2) / (D2 * A2 ** 2)) * (mu / (rho * D2 * ((q*qc+qmin)))) ** (1 / 4)\n",
    "pin = pbh*pbc+pbmin - rho * g * h1 - F1\n",
    "# Vazao do reservatorio e vazao na choke\n",
    "qr = PI * (pr - (pbh*pbc+pbmin))\n",
    "qch = (zc/100)*Cc * sqrt(fabs(pwh*pwc+pwmin - pm));\n",
    "\n",
    "# Termos não lineares\n",
    "#menor q implica em menor F\n",
    "funcH=Function('funcH',[x,u],[H])\n",
    "funcF1=Function('funcF1',[x],[F1])\n",
    "funcF2=Function('funcF2',[x],[F2])\n",
    "F1lim=(funcF1([0,0,qlim[0]]),funcF1([0,0,qlim[1]]))\n",
    "F2lim=(funcF2([0,0,qlim[0]]),funcF2([0,0,qlim[1]]))\n",
    "F1c=Lim_c(F1lim)\n",
    "F2c=Lim_c(F2lim)\n",
    "Hc=Lim_c(H_lim)\n",
    "qcc=Lim_c(qch_lim)\n",
    "print('Limites: pbh,pwh,q')\n",
    "print(pbhlim,pwhlim,qlim)\n",
    "print('Limites: F1,F2,H,qch')\n",
    "print(F1lim,F2lim,H_lim,qch_lim)\n"
   ]
  },
  {
   "cell_type": "code",
   "execution_count": 84,
   "metadata": {},
   "outputs": [
    {
     "data": {
      "text/plain": [
       "MX(u[2])"
      ]
     },
     "execution_count": 84,
     "metadata": {},
     "output_type": "execute_result"
    }
   ],
   "source": [
    "pm"
   ]
  },
  {
   "cell_type": "code",
   "execution_count": 85,
   "metadata": {},
   "outputs": [],
   "source": [
    "# F1c=941799.5331\n",
    "# F2c=2260318.8795\n",
    "#qcc=0.033987702\n",
    "#Hc=1511.97\n",
    "#Normalizar termos não lineares\n",
    "##########################\n",
    "qch=(qch-qch_lim[0])/qcc\n",
    "F1=(F1-F1lim[0])/F1c\n",
    "F2=(F2-F2lim[0])/F2c\n",
    "H=(H-H_lim[0])/Hc\n",
    "###########################\n",
    "\n",
    "#pr*b1*PI/V1\n",
    "# qch=qch*qcc\n",
    "# F1=F1c*F1\n",
    "# F2=F2c*F2\n",
    "# H=Hc*H\n",
    "dpbhdt = (1/pbc)*b1/V1*(qr - (q*qc+qmin))\n",
    "dpwhdt = (1/pwc)*b2/V2*((q*qc+qmin) - (qcc*qch+qch_lim[0]))\n",
    "dqdt = (1/(qc*M))*(pbh*pbc+pbmin - (pwh*pwc+pwmin) - rho*g*hw - (F1c*F1+F1lim[0]) - (F2c*F2+F2lim[0]) + rho * g * (H*Hc+H_lim[0]))\n",
    "# dfqdt = (fqref - fq)/tp[0];\n",
    "# dzcdt = (zcref - zc)/tp[1];\n",
    "\n",
    "dxdt = vertcat(dpbhdt,dpwhdt,dqdt);\n",
    "\n",
    "# Restricao do Elemento Final\n",
    "#dudt = vertcat(if_else(fabs(dfqdt)>dudt_max[0],sign(dfqdt)*dudt_max[0],dfqdt),\n",
    "#       if_else(fabs(dzcdt)>dudt_max[1],sign(dzcdt)*dudt_max[1],dzcdt));"
   ]
  },
  {
   "cell_type": "code",
   "execution_count": 86,
   "metadata": {},
   "outputs": [
    {
     "data": {
      "text/plain": [
       "(DM(1.26805e+06), DM(3.04332e+06))"
      ]
     },
     "execution_count": 86,
     "metadata": {},
     "output_type": "execute_result"
    }
   ],
   "source": [
    "funcF1([0,0,1]),funcF2([0,0,1])"
   ]
  },
  {
   "cell_type": "code",
   "execution_count": 87,
   "metadata": {},
   "outputs": [],
   "source": [
    "# funcH([0,0,1,0,0],[2,0])\n"
   ]
  },
  {
   "cell_type": "code",
   "execution_count": 88,
   "metadata": {},
   "outputs": [
    {
     "name": "stdout",
     "output_type": "stream",
     "text": [
      "9319500.0\n",
      "490000000000.0\n",
      "1250000000000.0\n",
      "5.7870370370370366e-05\n",
      "2766666.6666666665\n",
      "8111.87 19468.5\n",
      "(DM(99811.5), DM(107923)) (DM(239548), DM(259016))\n",
      "1557.0851455268821 (-136.31543417849096, 1420.7697113483912)\n",
      "0.03290348005910621\n"
     ]
    }
   ],
   "source": [
    "print(rho*g*hw)\n",
    "print(pwc*pwmin)\n",
    "print(pbc*pbmin)\n",
    "print(qc*qmin)\n",
    "print((qc*M))\n",
    "print(F1c,F2c)\n",
    "print(F1lim,F2lim)\n",
    "print(Hc,H_lim)\n",
    "print(qcc)"
   ]
  },
  {
   "cell_type": "code",
   "execution_count": 89,
   "metadata": {},
   "outputs": [],
   "source": [
    "xss = np.float32(np.array([8311024.82175957,2990109.06207437,0.00995042241351780]))\n",
    "x0=np.array([pbmin,pwmin,qmin])\n",
    "xc=np.array([pbc,pwc,qc])\n",
    "xssn = (xss-x0)/xc\n"
   ]
  },
  {
   "cell_type": "code",
   "execution_count": 90,
   "metadata": {},
   "outputs": [
    {
     "data": {
      "text/plain": [
       "array([0.656882  , 0.58981816, 0.41643043])"
      ]
     },
     "execution_count": 90,
     "metadata": {},
     "output_type": "execute_result"
    }
   ],
   "source": [
    "\n",
    "xssn"
   ]
  },
  {
   "cell_type": "code",
   "execution_count": 91,
   "metadata": {},
   "outputs": [
    {
     "data": {
      "text/plain": [
       "[DM(-2.01836e-08), DM(1.82581e-08), DM(4.15065e-08)]"
      ]
     },
     "execution_count": 91,
     "metadata": {},
     "output_type": "execute_result"
    }
   ],
   "source": [
    "uss = np.array([50,50,20e5,1.26e7])\n",
    "funcx1dot=Function('funcx1dot',[u,x],[dxdt[0]])\n",
    "funcx2dot=Function('funcx2dot',[u,x],[dxdt[1]])\n",
    "funcx3dot=Function('funcx3dot',[u,x],[dxdt[2]])\n",
    "dx=[funcx1dot(uss,xssn), funcx2dot(uss,xssn),funcx3dot(uss,xssn)]\n",
    "\n",
    "dx"
   ]
  },
  {
   "cell_type": "code",
   "execution_count": 92,
   "metadata": {},
   "outputs": [],
   "source": [
    "# Função casadi\n",
    "#dxdt = casadi.vertcat(dpbhdt,dpwhdt,dqdt) \n",
    "Eq_Estado = casadi.Function('Eq_Estado',[x,u],[vertcat(dpbhdt,dpwhdt,dqdt)],\n",
    "                     ['x','u'],['dxdt'])\n",
    "\n",
    "y=vertcat(pin,H);\n",
    "ny = y.size1()\n",
    "# Equações algébricas\n",
    "sea_nl = casadi.Function('sea_nl',[x,u],[y,pin,H],\\\n",
    "                 ['x','u'],['y','pin','H']); # Sistema de Eq. Algebricas variaveis de sa�da\n",
    "\n",
    "BCS={\n",
    "     'x': x,\n",
    "     'u': u,\n",
    "     'y': y,\n",
    "     'nx': nx,\n",
    "     'nu': nu,\n",
    "     'ny': ny,\n",
    "     'NaoLinear': {'sedo_nl': Eq_Estado(x,u),\n",
    "                   'sea_nl': sea_nl\n",
    "                   }\n",
    "}\n",
    "#%% Calculo do estacionario\n",
    "#% Func��o objetivo\n",
    "dxdt_0 = Eq_Estado(BCS['x'], BCS['u']);\n",
    "J = sum1(dxdt_0**2);\n",
    "#% Otimizador\n",
    "opt={\n",
    "     'ipopt':{\n",
    "         'print_level':0,\n",
    "         'acceptable_tol':1e-8,\n",
    "         'acceptable_obj_change_tol':1e-6,\n",
    "         'max_iter':50\n",
    "         },\n",
    "     'print_time':0,\n",
    "     }\n",
    "\n",
    "opt['ipopt']['print_level']=0;# %0,3\n",
    "opt['print_time']=0;\n",
    "opt['ipopt']['acceptable_tol']=1e-8;\n",
    "opt['ipopt']['acceptable_obj_change_tol']=1e-6;\n",
    "opt['ipopt']['max_iter']=50;\n",
    "\n"
   ]
  },
  {
   "cell_type": "code",
   "execution_count": 93,
   "metadata": {},
   "outputs": [
    {
     "name": "stdout",
     "output_type": "stream",
     "text": [
      "[8.31102e+06, 2.99011e+06, 0.00995042] [8.311025e+06 2.990109e+06 9.950423e-03]\n"
     ]
    }
   ],
   "source": [
    "MMQ = {'x':BCS['x'], 'f':J, 'p':BCS['u']}\n",
    "#nlp={'x':vertcat(BCS['x'],BCS['u']), 'f':J} #variáveis de decisão, função f, g (N/A)\n",
    "#nlp={'x':BCS['x'], 'f':J}\n",
    "solver = nlpsol('solver', 'ipopt', MMQ, opt)\n",
    "# Restrições das variaveis de decis�o\n",
    "# minimo\n",
    "args={\n",
    "      'lbx': np.zeros((nx,1)),\n",
    "# m�ximo\n",
    "      'ubx':np.full((nx, 1), np.inf)\n",
    "      }\n",
    "\n",
    "# Solu��o do otimizador\n",
    "sol=solver(x0=BCS['x'], lbx=args['lbx'], ubx=args['ubx'], p=BCS['u']);\n",
    "yss=sea_nl(sol['x'],BCS['u'])\n",
    "Estacionario = Function('Estacionario',[BCS['x'],BCS['u']],\\\n",
    "    [sol['x'],yss[0]],\\\n",
    "    ['x0','uss'],['xss','yss']);\n",
    "\n",
    "BCS['Estacionario'] = Estacionario;\n",
    "f_ss,zc_ss,pm_ss,pr_ss= (np.array([50, 50,20e5,1.26e7]))\n",
    "uss = np.array([f_ss,zc_ss,pm_ss,pr_ss]); # Entradas do estacionario\n",
    "# uss_n=normalizar_u(uss,unorm)\n",
    "# uss_n\n",
    "\n",
    "sol=solver(x0=xssn, p=uss);\n",
    "\n",
    "print(sol['x']*xc+x0, xss)\n",
    "#sol['x']*xc\n",
    "\n"
   ]
  },
  {
   "cell_type": "code",
   "execution_count": 94,
   "metadata": {},
   "outputs": [
    {
     "name": "stdout",
     "output_type": "stream",
     "text": [
      "[8.31102e+06, 2.99011e+06, 0.00995042]\n",
      "[8.31102e+06, 2.99011e+06, 0.00995042]\n"
     ]
    }
   ],
   "source": [
    "sol=solver(x0=xssn, p=uss);\n",
    "print(sol['x']*xc+x0)\n",
    "sol=solver(x0=xssn, p=uss);\n",
    "print(sol['x']*xc+x0)"
   ]
  },
  {
   "cell_type": "code",
   "execution_count": 95,
   "metadata": {},
   "outputs": [],
   "source": [
    "# Definir variaveis manipuladas e controladas e disturbio externo\n",
    "mv = [0,1]    #% [f, Zc]\n",
    "pv = [0,1]  #% [pin, H]  #% [P, I]\n",
    "#pv = [2,3];  #% [pin, H]\n",
    "de = [0];      #% [pm]\n",
    "tg = 2;      #% MV target\n",
    "#% Parametros\n",
    "ts = 1;\n",
    "#%Modelo de predição\n",
    "#% Criando o objeto para predição do modelo\n",
    "# Iniciando variavel dicionário para a construção da EDO\n",
    "# sedo = {'x': BCS['x'][0:3], # Estados\n",
    "#         'p': BCS['u'], #Variáveis exogenas\n",
    "#         'ode': BCS['NaoLinear']['sedo_nl'] # SEDO (Gerado no bcs_settings)\n",
    "#         };\n",
    "\n",
    "sedo = {'x': BCS['x'], # Estados\n",
    "        'p': BCS['u'], #Variáveis exogenas\n",
    "        'ode': Eq_Estado(x,u) # SEDO (Gerado no bcs_settings)\n",
    "        };\n",
    "\n",
    "#% Criando o objeto p,ra integração da Eq_estado\n",
    "opt = {'tf':ts,\n",
    "       't0':0\n",
    "\n",
    "       };   #% opções do integrador"
   ]
  },
  {
   "cell_type": "code",
   "execution_count": 96,
   "metadata": {},
   "outputs": [],
   "source": [
    "int_odes = integrator('int_odes','cvodes',sedo,opt);\n",
    "# objeto integrador\n",
    "res = int_odes(x0=BCS['x'],p=BCS['u']);             #   % solução um passo a frente\n",
    "npv = len(pv); nmv = len(mv); nde=len(de)"
   ]
  },
  {
   "cell_type": "code",
   "execution_count": 97,
   "metadata": {},
   "outputs": [],
   "source": [
    "# Criando o objeto para solução da equação de medição\n",
    "Eq_medicao = Function('Eq_medicao',[BCS['x'],BCS['u']],[BCS['y'][pv]],['x','u'],['y']);\n",
    "# Criacao do objeto para simulacao do BCS Eq de estado + Eq de Medicao\n",
    "Modelo_Predicao = Function('Modelo_Predicao',[BCS['x'],BCS['u']],[res['xf'],Eq_medicao(res['xf'],BCS['u'])],['xk_1','uk_1'],['xk','yk']);\n",
    "Modelo_Predicao2 = Function('Modelo_Predicao2',[BCS['x'],BCS['u']],[res['xf']],['xk_1','uk_1'],['xk']);"
   ]
  },
  {
   "cell_type": "markdown",
   "metadata": {},
   "source": [
    "### Prepara simulação"
   ]
  },
  {
   "cell_type": "code",
   "execution_count": 98,
   "metadata": {},
   "outputs": [
    {
     "data": {
      "text/plain": [
       "array([5.00e+01, 5.00e+01, 2.00e+06, 1.26e+07])"
      ]
     },
     "execution_count": 98,
     "metadata": {},
     "output_type": "execute_result"
    }
   ],
   "source": [
    "xpk = xss;\n",
    "uss\n",
    "#xpk=normalizar(xss,xnorm)\n",
    "\n",
    "#uk_1 = normaliza_u(uss[mv],unorm)\n",
    "#uk_1=(uss[mv]-unorm[:,0])/unorm[:,1]\n",
    "# MVS\n",
    "# Aloca��o de variaveis\n"
   ]
  },
  {
   "cell_type": "code",
   "execution_count": 99,
   "metadata": {},
   "outputs": [],
   "source": [
    "\n",
    "#Valores iniciais de simulação\n",
    "Xk = np.zeros((nx,1))\n",
    "tss=5 # Tempo inicial no estacionário\n",
    "\n",
    "tsim = 250*60; \n",
    "nsim=int(round(tsim/ts)+1)\n",
    "xss_n=xssn\n",
    "\n",
    "Yk = np.zeros((npv,1))\n",
    "Uk = np.zeros((nmv+nde,1))\n",
    "Ymk = Yk\n",
    "Ys = Yk\n",
    "Ymin = Yk\n",
    "Ymax = Yk\n",
    "\n",
    "# Povoar vetor de X com dados não normalizados\n",
    "def lpf(x, omega_c, T):\n",
    "    \"\"\"Implement a first-order low-pass filter. \n",
    "    The input data is x, the filter's cutoff frequency is omega_c \n",
    "    [rad/s] and the sample time is T [s].  The output is y.\n",
    "    \"\"\"\n",
    "    N=x.shape[0]\n",
    "    y = x\n",
    "    alpha = (2-T*omega_c)/(2+T*omega_c)\n",
    "    beta = T*omega_c/(2+T*omega_c)\n",
    "    for k in range(1, N):\n",
    "        y[k] = alpha*y[k-1] + beta*(x[k]+x[k-1])\n",
    "    return y\n",
    "\n",
    "def step_function(tsim):\n",
    "    x=np.arange(0,tsim)\n",
    "    val_pm=[20e5,28e5,14e5,20e5]\n",
    "    val_z=[50,100,75,100]\n",
    "    val_f=[50,63,55,60]\n",
    "    val_pr=[1.2e7,1e7,0.9e7]\n",
    "    list_f=[(x >= 0) & (x<350), (x >= 350) & (x < 1500),(x >= 1500) & (x < 2600), x>=2600]\n",
    "    list_z=[(x >= 0) & (x<700), (x >= 700) & (x < 1200), (x >= 1200) & (x < 2000),x>=2000]\n",
    "    list_pm=[(x >= 0) & (x<150),  (x >=150) & (x<1000),(x >= 1000) & (x < 1800), x>=1800]\n",
    "    list_pr=[(x >= 0) & (x<500),  (x >= 500) & (x < 1500), x>=1500]\n",
    "    pm=np.piecewise(x,list_pm,val_pm)\n",
    "    fk=np.piecewise(x,list_f, val_f)\n",
    "    zc=np.piecewise(x,list_z, val_z)\n",
    "    pr_z=np.piecewise(x,list_pr, val_pr)\n",
    "\n",
    "    # Wn=2*pi*1/25\n",
    "    # Wn2=2*pi*1/100    \n",
    "    Wn=2*pi*0.05\n",
    "    Wn2=2*pi*0.01\n",
    "    pm_f=lpf(pm,Wn,1)\n",
    "    pr_f=lpf(pr_z,Wn2,1)\n",
    "    return np.array([lpf(fk,Wn*0.7,10),lpf(zc,Wn2*4,1),pm_f,pr_f])\n",
    "\n",
    "label = ['f(Hz)',\"zc\", \"pm(bar)\", \"Pr(bar)\"];\n",
    "f,zc,pm,pr=step_function(tsim)\n",
    "entradas=[f,zc,pm,pr]\n",
    "fig2=plt.figure()\n",
    "for i,str in enumerate(label):\n",
    "    ax=fig2.add_subplot(len(label),1,i+1)\n",
    "    ax.plot(entradas[i].T, label='Medição')\n",
    "    ax.set_ylabel(str)\n",
    "    plt.grid(True)"
   ]
  },
  {
   "cell_type": "code",
   "execution_count": 100,
   "metadata": {},
   "outputs": [
    {
     "data": {
      "text/plain": [
       "15001"
      ]
     },
     "execution_count": 100,
     "metadata": {},
     "output_type": "execute_result"
    }
   ],
   "source": [
    "nsim"
   ]
  },
  {
   "cell_type": "code",
   "execution_count": 101,
   "metadata": {},
   "outputs": [],
   "source": [
    "# uk_1 = np.array([[40], [70], [pm_ss]]);\n",
    "\n",
    "nstep = tsim\n",
    "\n",
    "def APRBS_signals():\n",
    "    f=APRBS([40,65],[80,250] ,nstep)\n",
    "    z=APRBS([40,100],[80,250],nstep)\n",
    "    pm=APRBS([12*1e5,28*1e5],[100,200],nstep)\n",
    "    pr=APRBS([0.8e7,1.4*1e7],[200,300],nstep)\n",
    "    Wn=2*pi*1/25\n",
    "    Wn2=2*pi*1/100    \n",
    "    return  np.array([lpf(f,Wn,1),lpf(z,Wn2*2,1),lpf(pm,Wn,1),lpf(pr,Wn2,1)])\n",
    "# # u_f=np.ones_like(pm_z)*40\n",
    "# # u_z=np.ones_like(pm_z)*70\n",
    "# #dados = np.load('BCS_data_train_limitado_f_zc5.npz')\n",
    "# # u_f=dados['f']\n",
    "# # u_z=dados['zc']\n",
    "# uk_1 = np.array([u_f,u_z,pm_z]);\n",
    "\n",
    "#u_f,zc,pm_z,pr_z=step_function(tsim)\n",
    "#u_f,zc,pm_z,pr_z=APRBS_signals()\n",
    "#uk_1=step_function(tsim)\n",
    "uk_1 = APRBS_signals()\n",
    "xi=(np.arange(0,int(nsim*ts)-1,ts));\n",
    "#xi=np.arange(0,10,ts)\n",
    "\n",
    "\n",
    "\n",
    "\n"
   ]
  },
  {
   "cell_type": "markdown",
   "metadata": {},
   "source": [
    "### Simulação"
   ]
  },
  {
   "cell_type": "code",
   "execution_count": 102,
   "metadata": {},
   "outputs": [
    {
     "name": "stdout",
     "output_type": "stream",
     "text": [
      "Simulação iniciada\n",
      "Valores iniciais de entrada: [4.35902171e+01 4.72926115e+01 2.08112880e+06 1.09133346e+07]\n",
      "Estacionário das saídas: [8.09755e+06, 2.55814e+06, 0.00653261]\n",
      "Ok.simulação concluida\n"
     ]
    }
   ],
   "source": [
    "print(\"Simulação iniciada\")\n",
    "#Calcular estacionário para entrada inicial e inicializar vetores\n",
    "sol=solver(x0=xssn, p=uk_1[:,0]);\n",
    "xpk=sol['x']\n",
    "#Inicializar Yk\n",
    "ypk=sea_nl(xpk,uss)[0]\n",
    "Yk=ypk*np.array([1,Hc])+[0,H_lim[0]]\n",
    "ypk[1]*Hc+H_lim[0]\n",
    "#inicializar Xk\n",
    "Xk=xpk*xc+x0\n",
    "#inicializar Uk\n",
    "print(f\"Valores iniciais de entrada: {uk_1[:,0].T}\")\n",
    "print(f\"Estacionário das saídas: {Xk[:,0]}\")\n",
    "Uk=uk_1[:,0:1]\n",
    "\n",
    "\n",
    "#for k in range(1,10):\n",
    "for k in range(1,nsim-1):\n",
    "    xpk = Modelo_Predicao2(xpk,uk_1[:,k])\n",
    "    Xk = hcat([Xk,xpk*xc+x0]) #desnormalizar x e preencher vetor\n",
    "    ypk=sea_nl(xpk,uk_1[:,k])[0]\n",
    "    Yk = hcat([Yk,ypk*np.array([1,Hc])+[0,H_lim[0]]]);\n",
    "    Uk = hcat([Uk,uk_1[:,k]])\n",
    "\n",
    "#print(\"Xk shape =\"+str(Xk.shape))\n",
    "# print(\"Uk shape =\"+str(Uk.shape))\n",
    "# print(\"Yk shape =\"+str(Uk.shape))\n",
    "# print(\"xi shape =\"+str(xi.shape))\n",
    "print(\"Ok.simulação concluida\")\n",
    "Xk[0,:].shape\n",
    "t=np.arange(0,Uk[0,:].shape[1])"
   ]
  },
  {
   "cell_type": "code",
   "execution_count": 103,
   "metadata": {},
   "outputs": [],
   "source": [
    "# fig1=plt.figure()\n",
    "# label = [r'$p_{in}(bar)$','H(m)','P','I','qc','qr' ];\n",
    "# for iy in range(0,npv):\n",
    "#     ax = fig1.add_subplot(npv,1,iy+1)\n",
    "#     #print(iy)\n",
    "#     if iy == 0: # Pin\n",
    "#         ax.plot(xi,(Yk[iy,:].T)/1e5, label='Medição')\n",
    "#         #ax.plot(xi,Ymk[iy,:].T/1e5, label='EKF')\n",
    "#         ax.set_ylabel(label[iy])\n",
    "#         ax.set(xlim=(xi[0], nsim*ts))\n",
    "#        # ax.set(ylim=(40,62))\n",
    "#         plt.grid(True)\n",
    "#     else: # H\n",
    "#         ax.plot(xi,Yk[iy,:].T, label='Medição')\n",
    "#         #ax.plot(xi,Ymk[iy,:].T,label='EKF')\n",
    "#         ax.set_ylabel(label[iy])\n",
    "#         ax.set(xlim=(xi[0], nsim*ts))\n",
    "#        # ax.set(ylim=(580, 850))\n",
    "#         plt.grid(True)\n",
    "# #ax.plot(xi,Yk[2,:].T, label='EKF')\n",
    "# ax.legend();\n",
    "# ax.set_xlabel('Time (nT)')\n",
    "# fig1.show()\n"
   ]
  },
  {
   "cell_type": "code",
   "execution_count": 104,
   "metadata": {},
   "outputs": [],
   "source": [
    "# #% Restrição\n",
    "umin  = np.array([35, 70]); np.transpose(umin);  # lower bounds of inputs\n",
    "umax  = np.array([65, 100]); np.transpose(umax); # upper bounds of inputs\n",
    "dumax = np.array([0.5, dzc_max]); np.transpose(dumax);\n",
    "fig2=plt.figure()\n",
    "label = ['f(Hz)',r'$z_c$(%)', \"pm(bar)\", \"Pr(bar)\"];\n",
    "\n",
    "\n",
    "\n",
    "for i,str in enumerate(label):\n",
    "   \n",
    "    ax=fig2.add_subplot(len(label),1,i+1)\n",
    "    ax.plot(t,Uk[i,:].T, label='Medição')\n",
    "    # if i<2:\n",
    "    #     ax.plot([1,nsim],[umin[i], umin[i]],'--r')\n",
    "    #     ax.plot([1,nsim],[umax[i], umax[i]],'--r', label='Restrição')\n",
    "    ax.set_ylabel(str)\n",
    "    #ax.set(xlim=(xi[0], nsim*ts))\n",
    "    # if i==0:\n",
    "    #     ax.set(ylim=(30, 70))\n",
    "    plt.grid(True)\n",
    "\n",
    "    \n",
    "\n",
    "\n",
    "# for iu in range(0,nmv):\n",
    "#     ax2=fig2.add_subplot(nmv+nde,1,iu+1)\n",
    "#     ax2.plot(xi,Uk[iu,:].T, label='Medição')\n",
    "#     ax2.plot([1,nsim],[umin[iu], umin[iu]],'--r')\n",
    "#     ax2.plot([1,nsim],[umax[iu], umax[iu]],'--r', label='Restrição')\n",
    "#     ax2.set_ylabel(label[iu])\n",
    "#     ax2.set(xlim=(xi[0], nsim*ts))\n",
    "#     if iu==0:\n",
    "#         ax2.set(ylim=(30, 70))\n",
    "\n",
    "#     plt.grid(True)\n"
   ]
  },
  {
   "cell_type": "code",
   "execution_count": 105,
   "metadata": {},
   "outputs": [],
   "source": [
    "fig3=plt.figure()\n",
    "label = ['Pbh (bar)','Pwh (bar)','q(m3/s)'];\n",
    "for iu in range(0,3):\n",
    "    ax3=fig3.add_subplot(3,1,iu+1)\n",
    "    if iu==2:\n",
    "        ax3.plot(t,(Xk[iu,:].T)*3600, label='Medição')\n",
    "        #ax3.plot([1,nsim],[umin[iu], umin[iu]],'--r')\n",
    "        #ax3.plot([1,nsim],[umax[iu], umax[iu]],'--r', label='Restrição')\n",
    "        ax3.set_ylabel(label[iu])\n",
    "        #ax3.set(xlim=(xi[0], nsim*ts))\n",
    "        # if iu==0:\n",
    "        #     #ax2.set(ylim=(30, 70))\n",
    "        #     print(iu)\n",
    "        plt.grid(True)\n",
    "    else:\n",
    "        ax3.plot(t,Xk[iu,:].T/1e5, label='Medição')\n",
    "        #ax3.plot([1,nsim],[umin[iu], umin[iu]],'--r')\n",
    "        #ax3.plot([1,nsim],[umax[iu], umax[iu]],'--r', label='Restrição')\n",
    "        ax3.set_ylabel(label[iu])\n",
    "        #ax3.set(xlim=(xi[0], nsim*ts))\n",
    "        # if iu==0:\n",
    "        #     #ax2.set(ylim=(30, 70))\n",
    "        #     print(iu)\n",
    "        plt.grid(True)\n"
   ]
  },
  {
   "cell_type": "code",
   "execution_count": 106,
   "metadata": {},
   "outputs": [],
   "source": [
    "# Xk[2,:]=Xk[2,:]*xc[2] #desnormalizar vazão\n",
    "# Yk[1,:]=Yk[1,:]*Hc #desnormalizar Head"
   ]
  },
  {
   "cell_type": "code",
   "execution_count": 107,
   "metadata": {},
   "outputs": [
    {
     "name": "stdout",
     "output_type": "stream",
     "text": [
      "Envelope carregado\n"
     ]
    }
   ],
   "source": [
    "exec(compile(open('envelope.py', \"rb\").read(), 'envelope.py', 'exec')) #% Roda arquivo com parâmetros do modelo BCS\n",
    "fig4,ax4=plt.subplots()\n",
    "plt.grid(True)\n",
    "BCS['Envelope']['fig'](ax4); # grafico do envelope\n",
    "#\n",
    "# Evolução dentro do envelope\n",
    "ax4.plot(Xk[2,0:].T*3600,Yk[1,0:].T,'--k')\n",
    "ax4.plot(Xk[2,0]*3600,Yk[1,0],'o')#,'MarkerFaceColor',[0,1,0],'MarkerEdgeColor',[0,0,0])\n",
    "ax4.plot(Xk[2,-1]*3600,Yk[1,-1],'o')#,'MarkerFaceColor',[1,0,0],'MarkerEdgeColor',[0,0,0])\n",
    "ax4.annotate('t=0',\n",
    "             xy=(float(Xk[2,0]*3600),float(Yk[1,0])),\n",
    "             xytext=(float(Xk[2,0]*3600)-5,float(Yk[1,0])+10),\n",
    "             arrowprops=dict(facecolor='green', shrink=0.01))\n",
    "\n",
    "ax4.annotate(f't={nsim}',\n",
    "             xy=(float(Xk[2,-1]*3600),float(Yk[1,-1])),\n",
    "             xytext=(float(Xk[2,-1]*3600)-7,float(Yk[1,-1])+10),\n",
    "             arrowprops=dict(facecolor='red', shrink=0.01))\n",
    "plt.show()\n",
    "\n"
   ]
  },
  {
   "cell_type": "code",
   "execution_count": 108,
   "metadata": {},
   "outputs": [],
   "source": [
    "np.savez('BCS_data_train_limitado_f_zc_pm_pr_ident2.npz', t=xi, x1=Xk[0,:].T,x2=Xk[1,:].T,x3=Xk[2,:].T,U=Uk.T)"
   ]
  }
 ],
 "metadata": {
  "interpreter": {
   "hash": "b797e030574f33a5ed9740f772301991f2e7ad332878e65ebeae86f627530e78"
  },
  "kernelspec": {
   "display_name": "Python 3.9.2 64-bit ('BCS': conda)",
   "name": "python3"
  },
  "language_info": {
   "codemirror_mode": {
    "name": "ipython",
    "version": 3
   },
   "file_extension": ".py",
   "mimetype": "text/x-python",
   "name": "python",
   "nbconvert_exporter": "python",
   "pygments_lexer": "ipython3",
   "version": "3.9.2"
  }
 },
 "nbformat": 4,
 "nbformat_minor": 1
}
