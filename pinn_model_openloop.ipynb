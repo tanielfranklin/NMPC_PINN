{
 "cells": [
  {
   "cell_type": "code",
   "execution_count": 1,
   "metadata": {},
   "outputs": [
    {
     "name": "stderr",
     "output_type": "stream",
     "text": [
      "/home/taniel/anaconda3/envs/BCS2/lib/python3.9/site-packages/scipy/__init__.py:146: UserWarning: A NumPy version >=1.16.5 and <1.23.0 is required for this version of SciPy (detected version 1.23.3\n",
      "  warnings.warn(f\"A NumPy version >={np_minversion} and <{np_maxversion}\"\n"
     ]
    },
    {
     "name": "stdout",
     "output_type": "stream",
     "text": [
      "Dados carregados\n",
      "Loading model from pinn_models/data_model02\n",
      "WARNING:tensorflow:No training configuration found in save file, so the model was *not* compiled. Compile it manually.\n"
     ]
    },
    {
     "name": "stderr",
     "output_type": "stream",
     "text": [
      "WARNING:tensorflow:No training configuration found in save file, so the model was *not* compiled. Compile it manually.\n"
     ]
    },
    {
     "name": "stdout",
     "output_type": "stream",
     "text": [
      "Instancia BCS\n",
      "Initial states\n",
      "Pbh, Pwh, q, df, dzc\n",
      "Initial control\n",
      "f, zc\n",
      "[8.31102e+06, 2.99011e+06, 0.00995042, 50, 50]\n",
      "Iteração: 0\n",
      "\n",
      "******************************************************************************\n",
      "This program contains Ipopt, a library for large-scale nonlinear optimization.\n",
      " Ipopt is released as open source code under the Eclipse Public License (EPL).\n",
      "         For more information visit http://projects.coin-or.org/Ipopt\n",
      "******************************************************************************\n",
      "\n",
      "Iteração: 1\n",
      "Iteração: 2\n",
      "Iteração: 3\n",
      "Iteração: 4\n",
      "Iteração: 5\n",
      "Iteração: 6\n",
      "Iteração: 7\n",
      "Iteração: 8\n",
      "Iteração: 9\n",
      "Iteração: 10\n",
      "Iteração: 11\n",
      "Iteração: 12\n",
      "Iteração: 13\n",
      "Iteração: 14\n",
      "Iteração: 15\n",
      "Iteração: 16\n",
      "Iteração: 17\n",
      "Iteração: 18\n",
      "Iteração: 19\n",
      "Iteração: 20\n",
      "Iteração: 21\n",
      "Iteração: 22\n",
      "Iteração: 23\n",
      "Iteração: 24\n",
      "Iteração: 25\n",
      "Iteração: 26\n",
      "Iteração: 27\n",
      "Iteração: 28\n",
      "Iteração: 29\n"
     ]
    }
   ],
   "source": [
    "import pandas as pd\n",
    "import numpy as np\n",
    "import matplotlib.pyplot as plt\n",
    "from data.BCS_casadi import BCS_model\n",
    "from data.plot_result import PlotResult\n",
    "from data.bcs_envelope import BcsEnvelope\n",
    "import seaborn as sns\n",
    "from data.PinnPredictor import PinnPredictor\n",
    "\n",
    "predictor=PinnPredictor(\"pinn_models/data_model02\")\n",
    "sns.set_theme()\n",
    "\n",
    "# steady-state conditions\n",
    "xss = np.vstack([8311024.82175957, 2990109.06207437,\n",
    "                0.00995042241351780, 50., 50.])\n",
    "nx = 5\n",
    "nu = 2\n",
    "ny = 2\n",
    "\n",
    "uss = np.vstack([50., 50.])\n",
    "yss = np.vstack([6000142.88550200, 592.126490003812])\n",
    "# output scale factor\n",
    "\n",
    "Ts = 2  # sampling time\n",
    "# --------------------------------------------------------------------------\n",
    "# constraints on inputs\n",
    "# --------------------------------------------------------------------------\n",
    "umin = np.vstack([35, 0])    # lower bounds of inputs\n",
    "umax = np.vstack([65, 100])    # upper bounds of inputs\n",
    "# maximum variation of input moves: [0.5 Hz/s; 0.5 #/s]\n",
    "dumax = Ts*np.vstack([0.5, 0.5])\n",
    "# ----------------------------------------------\n",
    "# ------Normalização através dos pesos----------\n",
    "q = np.hstack([100, 1]) / (yss**2)  # weights on controlled variables\n",
    "q = np.hstack([1e6, 1e8]) / (yss**2)  # weights on controlled variables\n",
    "r = np.array([100, 1]) / (uss.T**2)  # weights on control actions\n",
    "qu = 1000 / (uss[1]**2)\n",
    "\n",
    "print(\"Instancia BCS\")\n",
    "bcs_init = [nu, nx, ny, Ts, umin, umax, dumax]\n",
    "\n",
    "bcs = BCS_model(nu, nx, ny, Ts, umin, umax, dumax)\n",
    "\n",
    "# --------------------------------------------------------------------------\n",
    "# Initial condition (preferred steady-state)\n",
    "# --------------------------------------------------------------------------\n",
    "uk_1 = np.vstack([50., 50.])  # manipulated variable\n",
    "print(\"Initial states\")\n",
    "print(\"Pbh, Pwh, q, df, dzc\")\n",
    "x0 = np.vstack([8311024.82175957, 2990109.06207437,\n",
    "               0.00995042241351780, 50., 50.])  # state variables\n",
    "print(\"Initial control\")\n",
    "print(\"f, zc\")\n",
    "\n",
    "try:\n",
    "    print(bcs.desnorm_x(bcs.F(x0=bcs.norm_x(x0), p=uss)['xf']))\n",
    "except Exception as e:\n",
    "    print(\"An exception was raised here:\")\n",
    "    print(e)\n",
    "\n",
    "pm = 2e6   # pressão da manifold\n",
    "\n",
    "# Regiao de operação\n",
    "hlim = bcs.envelope.Hlim(x0[2]*3600)\n",
    "ymin = np.vstack([yss[0], min(hlim)])  # Pressao de intake e  Downtrhust\n",
    "ymax = np.vstack([xss[0], max(hlim)])  # Pressao de intake e  Uptrhust\n",
    "# ymin(2,1) = min(hlim); # Downtrhust\n",
    "# ymax(2,1) = max(hlim); # Uptrhust\n",
    "xpk = xss\n",
    "ysp = yss\n",
    "Vruido = ((0.01/3)*np.diag(yss[:, 0]))**2\n",
    "\n",
    "# # Parameters: initial states, du,utg, u0,ysp\n",
    "\n",
    "\n",
    "Yk = yss\n",
    "Xk = xss.reshape((xss.shape[0], 1))\n",
    "Ysp = yss\n",
    "HLim = np.vstack([ymax[1], ymin[1]])\n",
    "PINLim = np.vstack([ymax[0], ymin[0]])\n",
    "rows = []\n",
    "\n",
    "#Initial conditions for PINN predictions\n",
    "xi=xss[0:2].T #bar\n",
    "pr=126e5\n",
    "pm=20e5\n",
    "bcs.update_BCS(pm,pr)\n",
    "ui=np.vstack([uss,pm,pr]).T\n",
    "Ui,Xi=predictor.start_dataset(ui,xi)\n",
    "yi,x_pinn=predictor.predict_pinn(Ui,Xi)\n",
    "\n",
    "X_Pinn,X_m=[],[]\n",
    "X_Pinn.append([0]+x_pinn[:,0].tolist())\n",
    "X_m.append([0]+xss[0:3,0].tolist())\n",
    "\n",
    "# Simulation Loop -------------------------------- ------------------------------\n",
    "tsim = 1.    # minutes\n",
    "nsim = int(60*tsim/Ts)   # number of steps\n",
    "uk = np.zeros((bcs.nu, int(nsim)))\n",
    "\n",
    "\n",
    "for k in range(nsim):\n",
    "    print(\"Iteração:\", k)\n",
    "    tsim = k*Ts/60\n",
    "\n",
    "    # changes on inputs\n",
    "    if tsim == 0.4:\n",
    "        pm=27e5\n",
    "        bcs.update_BCS(pm,pr)\n",
    "\n",
    "    elif tsim == 0.8:\n",
    "        uk_1 = np.vstack([65., 50.])\n",
    "    elif tsim == 2.5:\n",
    "        pr=100e5\n",
    "        bcs.update_BCS(pm,pr)\n",
    "\n",
    "    elif tsim == 4.:\n",
    "        uk_1 = np.vstack([65., 85.])\n",
    "        \n",
    "    elif tsim == 5.5:\n",
    "        pm=23e5\n",
    "        bcs.update_BCS(pm,pr)\n",
    "    \n",
    "    ui=np.vstack([uk_1,pm,pr]).T\n",
    "    Ui,Xi=predictor.update_inputs(yi,ui,Ui,Xi)\n",
    "    yi,x_pinn=predictor.predict_pinn(Ui,Xi)\n",
    "\n",
    "    # ## Limite Up e Downthrust\n",
    "    hlim = bcs.envelope.Hlim(xpk[2]*3600)\n",
    "    ymin[1, 0] = min(hlim)\n",
    "    ymax[1, 0] = max(hlim)\n",
    "    uk[:, k:k+1] = uk_1\n",
    "\n",
    "    # Plant\n",
    "    xpk = bcs.integrator_ode(x0, uk_1)\n",
    "    \n",
    "\n",
    "    #  Nominal Model\n",
    "    x0 = xpk\n",
    "    ypk = bcs.eq_medicao(x0)\n",
    "    \n",
    "    ruido = 5\n",
    "    # +np.random.multivariate_normal((0,0), Vruido).reshape((bcs.ny,1)) # ruido -> 3x a 5x\n",
    "    ypk = ypk\n",
    "    Yk = np.concatenate((Yk, ypk), axis=1)\n",
    "    Ysp = np.concatenate((Ysp, ysp), axis=1)\n",
    "    HLim = np.concatenate((HLim, np.vstack([ymax[1], ymin[1]])), axis=1)\n",
    "    PINLim = np.concatenate((PINLim, np.vstack([ymax[0], ymin[0]])), axis=1)\n",
    "    Xk = np.concatenate((Xk, x0.reshape((x0.shape[0], 1))), axis=1)\n",
    "    X_Pinn.append([tsim]+x_pinn[:,0].tolist())\n",
    "    X_m.append([tsim]+xpk[0:3,0].tolist())\n",
    "    \n",
    "df_pinn = pd.DataFrame(X_Pinn, columns=['t','pbh','pwh','q'])\n",
    "df_mod = pd.DataFrame(X_m, columns=['t','pbh','pwh','q'])"
   ]
  },
  {
   "cell_type": "code",
   "execution_count": 2,
   "metadata": {},
   "outputs": [
    {
     "data": {
      "text/plain": [
       "<matplotlib.legend.Legend at 0x7f2a9c3fe3d0>"
      ]
     },
     "execution_count": 2,
     "metadata": {},
     "output_type": "execute_result"
    },
    {
     "data": {
      "image/png": "[encoded data removed]",
      "text/plain": [
       "<Figure size 640x480 with 3 Axes>"
      ]
     },
     "metadata": {},
     "output_type": "display_data"
    }
   ],
   "source": [
    "df_pinn = pd.DataFrame(X_Pinn, columns=['t','pbh','pwh','q'])\n",
    "df_mod = pd.DataFrame(X_m, columns=['t','pbh','pwh','q'])\n",
    "df_mod['q']=df_mod['q']*3600\n",
    "df_pinn['q']=df_pinn['q']*3600\n",
    "df_mod['pbh']=df_mod['pbh']/1e5\n",
    "df_pinn['pbh']=df_pinn['pbh']/1e5\n",
    "df_mod['pwh']=df_mod['pwh']/1e5\n",
    "df_pinn['pwh']=df_pinn['pwh']/1e5\n",
    "\n",
    "# print(df_pinn.head())\n",
    "# print(df_mod.head())\n",
    "fig_res, axes = plt.subplots(3, 1)\n",
    "sns.lineplot(data=df_pinn, x='t', y='pbh', ax=axes[0], legend=\"full\")\n",
    "sns.lineplot(data=df_mod, x='t', y='pbh', ax=axes[0],legend=\"full\")\n",
    "g1=sns.lineplot(data=df_pinn, x='t', y='pwh', ax=axes[1])\n",
    "sns.lineplot(data=df_pinn, x='t', y='q', ax=axes[2])\n",
    "g2=sns.lineplot(data=df_mod, x='t', y='pwh', ax=axes[1])\n",
    "sns.lineplot(data=df_mod, x='t', y='q', ax=axes[2])\n",
    "axes[0].set(xlabel=None)\n",
    "axes[1].set(xlabel=None)\n",
    "axes[0].set_xticklabels([])\n",
    "axes[1].set_xticklabels([])\n",
    "g1.set_label(\"Pinn\")#  legend(label=\"pinn\")\n",
    "g2.set_label(\"Phenomena\")\n",
    "#print(g.set_label[\"text\"])\n",
    "g1.legend(loc='upper left',labels=[\"Pinn\",'',\"Model\"])\n",
    "\n",
    "# plt.legend(labels=[\"Pinn\",\"Model\"])\n"
   ]
  },
  {
   "cell_type": "code",
   "execution_count": 3,
   "metadata": {},
   "outputs": [
    {
     "ename": "NameError",
     "evalue": "name 'sns' is not defined",
     "output_type": "error",
     "traceback": [
      "\u001b[0;31m---------------------------------------------------------------------------\u001b[0m",
      "\u001b[0;31mNameError\u001b[0m                                 Traceback (most recent call last)",
      "Cell \u001b[0;32mIn [3], line 2\u001b[0m\n\u001b[1;32m      1\u001b[0m grafico \u001b[38;5;241m=\u001b[39m PlotResult(bcs\u001b[38;5;241m.\u001b[39mTs)\n\u001b[0;32m----> 2\u001b[0m \u001b[43mgrafico\u001b[49m\u001b[38;5;241;43m.\u001b[39;49m\u001b[43mplot_pinn_model\u001b[49m\u001b[43m(\u001b[49m\u001b[43mdf_pinn\u001b[49m\u001b[43m,\u001b[49m\u001b[43mdf_mod\u001b[49m\u001b[43m)\u001b[49m\n",
      "File \u001b[0;32m~/Projetos_dev/NMPC_PINN/data/plot_result.py:76\u001b[0m, in \u001b[0;36mPlotResult.plot_pinn_model\u001b[0;34m(self, df_pinn, df_mod)\u001b[0m\n\u001b[1;32m     73\u001b[0m \u001b[39m# print(df_pinn.head())\u001b[39;00m\n\u001b[1;32m     74\u001b[0m \u001b[39m# print(df_mod.head())\u001b[39;00m\n\u001b[1;32m     75\u001b[0m fig_res, axes \u001b[39m=\u001b[39m plt\u001b[39m.\u001b[39msubplots(\u001b[39m3\u001b[39m, \u001b[39m1\u001b[39m)\n\u001b[0;32m---> 76\u001b[0m sns\u001b[39m.\u001b[39mlineplot(data\u001b[39m=\u001b[39mdf_pinn, x\u001b[39m=\u001b[39m\u001b[39m'\u001b[39m\u001b[39mt\u001b[39m\u001b[39m'\u001b[39m, y\u001b[39m=\u001b[39m\u001b[39m'\u001b[39m\u001b[39mpbh\u001b[39m\u001b[39m'\u001b[39m, ax\u001b[39m=\u001b[39maxes[\u001b[39m0\u001b[39m], legend\u001b[39m=\u001b[39m\u001b[39m\"\u001b[39m\u001b[39mfull\u001b[39m\u001b[39m\"\u001b[39m)\n\u001b[1;32m     77\u001b[0m sns\u001b[39m.\u001b[39mlineplot(data\u001b[39m=\u001b[39mdf_mod, x\u001b[39m=\u001b[39m\u001b[39m'\u001b[39m\u001b[39mt\u001b[39m\u001b[39m'\u001b[39m, y\u001b[39m=\u001b[39m\u001b[39m'\u001b[39m\u001b[39mpbh\u001b[39m\u001b[39m'\u001b[39m, ax\u001b[39m=\u001b[39maxes[\u001b[39m0\u001b[39m],legend\u001b[39m=\u001b[39m\u001b[39m\"\u001b[39m\u001b[39mfull\u001b[39m\u001b[39m\"\u001b[39m)\n\u001b[1;32m     78\u001b[0m g1\u001b[39m=\u001b[39msns\u001b[39m.\u001b[39mlineplot(data\u001b[39m=\u001b[39mdf_pinn, x\u001b[39m=\u001b[39m\u001b[39m'\u001b[39m\u001b[39mt\u001b[39m\u001b[39m'\u001b[39m, y\u001b[39m=\u001b[39m\u001b[39m'\u001b[39m\u001b[39mpwh\u001b[39m\u001b[39m'\u001b[39m, ax\u001b[39m=\u001b[39maxes[\u001b[39m1\u001b[39m])\n",
      "\u001b[0;31mNameError\u001b[0m: name 'sns' is not defined"
     ]
    },
    {
     "data": {
      "image/png": "[encoded data removed]",
      "text/plain": [
       "<Figure size 640x480 with 3 Axes>"
      ]
     },
     "metadata": {},
     "output_type": "display_data"
    }
   ],
   "source": [
    "grafico = PlotResult(bcs.Ts)\n",
    "grafico.plot_pinn_model(df_pinn,df_mod)"
   ]
  }
 ],
 "metadata": {
  "kernelspec": {
   "display_name": "Python 3.9.13 ('BCS2')",
   "language": "python",
   "name": "python3"
  },
  "language_info": {
   "codemirror_mode": {
    "name": "ipython",
    "version": 3
   },
   "file_extension": ".py",
   "mimetype": "text/x-python",
   "name": "python",
   "nbconvert_exporter": "python",
   "pygments_lexer": "ipython3",
   "version": "3.9.13"
  },
  "orig_nbformat": 4,
  "vscode": {
   "interpreter": {
    "hash": "642cf9b6b45a9e37d00a1553d554776c4c9c69bb1caf81c929fb929dc86eceec"
   }
  }
 },
 "nbformat": 4,
 "nbformat_minor": 2
}
