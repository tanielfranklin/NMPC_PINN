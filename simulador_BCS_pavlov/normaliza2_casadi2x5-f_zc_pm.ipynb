{
 "cells": [
  {
   "cell_type": "markdown",
   "metadata": {
    "collapsed": true,
    "pycharm": {
     "name": "#%% md\n"
    }
   },
   "source": [
    "Normalização do modelo BCS não linear"
   ]
  },
  {
   "cell_type": "code",
<<<<<<< Updated upstream
   "execution_count": 83,
=======
   "execution_count": 1,
>>>>>>> Stashed changes
   "metadata": {
    "pycharm": {
     "name": "#%%\n"
    }
   },
   "outputs": [
    {
     "name": "stdout",
     "output_type": "stream",
     "text": [
      "Dados carregados\n"
     ]
    }
   ],
   "source": [
    "import matplotlib.pyplot as plt\n",
    "import tensorflow as tf\n",
    "import scipy as sp\n",
    "from scipy import signal\n",
    "import numpy as np\n",
    "from subrotinas import *\n",
    "#from envelope import *\n",
    "exec(compile(open('param.py', \"rb\").read(), 'param.py', 'exec')) #% Roda arquivo com parâmetros do modelo BCS\n",
    "%matplotlib tk"
   ]
  },
  {
   "cell_type": "markdown",
   "metadata": {
    "pycharm": {
     "name": "#%% md\n"
    }
   },
   "source": [
    "### Variáveis de entrada\n",
    "f $\\in$ (35,65) Hz <br>\n",
    "zc $\\in$ (0,100)% <br>\n",
    "pm $\\in$ ($2\\cdot 10^6$) <br>\n",
    "\n",
    "### Variáveis de estado\n",
    "pbh $\\in$ ($10^5, 8.5 \\cdot 10^6$) <br>\n",
    "pwh $\\in$ ($2 \\cdot 10^6, 5.2\\cdot10^6$) <br>\n",
    "q $\\in (10^{-2},3\\cdot 10^{⁻2})$ <br>\n",
    "\n"
   ]
  },
  {
   "cell_type": "markdown",
   "metadata": {
    "pycharm": {
     "name": "#%% md\n"
    }
   },
   "source": [
    "Definindo os fatores de ajuste de escala a partir dos limites operacionais"
   ]
  },
  {
   "cell_type": "code",
<<<<<<< Updated upstream
   "execution_count": 84,
=======
   "execution_count": 2,
>>>>>>> Stashed changes
   "metadata": {
    "collapsed": false,
    "pycharm": {
     "name": "#%%\n"
    }
   },
   "outputs": [],
   "source": [
    "# Valores máximos e mínimos para normalização\n",
    "#Entradas - conforme binder e pavlov\n",
    "def Lim_c(x):\n",
    "    return x[1]-x[0]\n",
    "f_lim=(30,75)\n",
    "zclim=(0,1)\n",
    "pmlim=(1e5,50e5)\n",
    "pbhlim=(1e5,pr) \n",
    "pwhlim=(1e5,50e5) \n",
    "qlim=(15/3600,65/3600)\n",
    "pbc=Lim_c(pbhlim)\n",
    "pwc=Lim_c(pwhlim)\n",
    "qc=Lim_c(qlim)\n",
    "pbmin=pbhlim[0]\n",
    "pwmin=pwhlim[0]\n",
    "qmin=qlim[0]\n",
    "H_lim=(-136.31543417849096, 1420.7697113483912)\n",
    "qch_lim=(0.0, 0.03290348005910621)\n",
    "\n"
   ]
  },
  {
   "cell_type": "code",
<<<<<<< Updated upstream
   "execution_count": 85,
=======
   "execution_count": 3,
>>>>>>> Stashed changes
   "metadata": {
    "pycharm": {
     "name": "#%%\n"
    }
   },
   "outputs": [],
   "source": [
    "pm=20e5; #Simplificando pm fixo\n",
    "#pbh  - pressão na bomba\n",
    "#pwh - Pressão de fundo do poço,\n",
    "#q - vazão\n",
    "#PI índice de produtividade do poço\n",
    "#PinC  pressão na choke\n",
    "# Pressão de manifold"
   ]
  },
  {
   "cell_type": "markdown",
   "metadata": {
    "pycharm": {
     "name": "#%% md\n"
    }
   },
   "source": [
    "Definindo as variáveis simbólicas"
   ]
  },
  {
   "cell_type": "code",
<<<<<<< Updated upstream
   "execution_count": 86,
=======
   "execution_count": 4,
>>>>>>> Stashed changes
   "metadata": {
    "pycharm": {
     "name": "#%%\n"
    }
   },
   "outputs": [],
   "source": [
    "# Criando simbolica\n",
    "from casadi import *\n",
    "nx = 5; nu = 3;\n",
    "x = MX.sym(\"x\",nx); # Estados\n",
    "u = MX.sym(\"u\",nu); # Exogena\n",
    "dudt_max = MX.sym(\"dudt_max\",2); # Exogena\n",
    "pbh = x[0]\n",
    "pwh = x[1]\n",
    "q = x[2]\n",
    "fq = x[3]; zc = x[4]"
   ]
  },
  {
   "cell_type": "code",
<<<<<<< Updated upstream
   "execution_count": 87,
=======
   "execution_count": 5,
>>>>>>> Stashed changes
   "metadata": {
    "pycharm": {
     "name": "#%%\n"
    }
   },
   "outputs": [],
   "source": [
    "# Entradas\n",
    "\n",
    "fqref = u[0]; zcref = u[1]; pm=u[2];\n",
    "#pm=2e6;\n",
    "# zc=zcref \n",
    "# fq=fqref"
   ]
  },
  {
   "cell_type": "code",
<<<<<<< Updated upstream
   "execution_count": 88,
=======
   "execution_count": 6,
>>>>>>> Stashed changes
   "metadata": {},
   "outputs": [
    {
     "data": {
      "text/plain": [
       "MX(x[3])"
      ]
     },
<<<<<<< Updated upstream
     "execution_count": 88,
=======
     "execution_count": 6,
>>>>>>> Stashed changes
     "metadata": {},
     "output_type": "execute_result"
    }
   ],
   "source": [
    "fq"
   ]
  },
  {
   "cell_type": "code",
<<<<<<< Updated upstream
   "execution_count": 89,
=======
   "execution_count": 7,
>>>>>>> Stashed changes
   "metadata": {
    "pycharm": {
     "name": "#%%\n"
    }
   },
   "outputs": [
    {
     "name": "stdout",
     "output_type": "stream",
     "text": [
      "Limites: pbh,pwh,q\n",
      "(100000.0, 12600000.0) (100000.0, 5000000.0) (0.004166666666666667, 0.018055555555555554)\n",
      "Limites: F1,F2,H,qch\n",
      "(DM(99811.5), DM(107923)) (DM(239548), DM(259016)) (-136.31543417849096, 1420.7697113483912) (0.0, 0.03290348005910621)\n"
     ]
    }
   ],
   "source": [
    "# Calculo do HEAD e delta de press�o\n",
    "q0 = (q*qc+qmin) / Cq * (f0 / fq)\n",
    "H0 = -1.2454e6 * q0 ** 2 + 7.4959e3 * q0 + 9.5970e2\n",
    "H = CH * H0 * (fq / f0) ** 2  # Head\n",
    "#Pp = rho * g * H  # Delta de press�o\n",
    "\n",
    "# Calculo da Potencia e corrente da bomba\n",
    "P0 = -2.3599e9 * q0 ** 3 - 1.8082e7 * q0 ** 2 + 4.3346e6 * q0 + 9.4355e4\n",
    "P = Cp * P0 * (fq / f0) ** 3;  # Potencia\n",
    "I = Inp * P / Pnp  # Corrente\n",
    "\n",
    "# Calculo da press�o de intake\n",
    "F1 = 0.158 * ((rho * L1 * ((q*qc+qmin)) ** 2) / (D1 * A1 ** 2)) * (mu / (rho * D1 * ((q*qc+qmin)))) ** (1 / 4)\n",
    "F2 = 0.158 * ((rho * L2 * ((q*qc+qmin)) ** 2) / (D2 * A2 ** 2)) * (mu / (rho * D2 * ((q*qc+qmin)))) ** (1 / 4)\n",
    "pin = pbh*pbc+pbmin - rho * g * h1 - F1\n",
    "# Vazao do reservatorio e vazao na choke\n",
    "qr = PI * (pr - (pbh*pbc+pbmin))\n",
    "qch = (zc/100)*Cc * sqrt(fabs(pwh*pwc+pwmin - pm));\n",
    "\n",
    "# Termos não lineares\n",
    "#menor q implica em menor F\n",
    "funcH=Function('funcH',[x,u],[H])\n",
    "funcF1=Function('funcF1',[x],[F1])\n",
    "funcF2=Function('funcF2',[x],[F2])\n",
    "F1lim=(funcF1([0,0,qlim[0],0,0]),funcF1([0,0,qlim[1],0,0]))\n",
    "F2lim=(funcF2([0,0,qlim[0],0,0]),funcF2([0,0,qlim[1],0,0]))\n",
    "F1c=Lim_c(F1lim)\n",
    "F2c=Lim_c(F2lim)\n",
    "Hc=Lim_c(H_lim)\n",
    "qcc=Lim_c(qch_lim)\n",
    "print('Limites: pbh,pwh,q')\n",
    "print(pbhlim,pwhlim,qlim)\n",
    "print('Limites: F1,F2,H,qch')\n",
    "print(F1lim,F2lim,H_lim,qch_lim)\n"
   ]
  },
  {
   "cell_type": "code",
<<<<<<< Updated upstream
   "execution_count": 90,
=======
   "execution_count": 8,
>>>>>>> Stashed changes
   "metadata": {},
   "outputs": [
    {
     "data": {
      "text/plain": [
       "MX(u[2])"
      ]
     },
<<<<<<< Updated upstream
     "execution_count": 90,
=======
     "execution_count": 8,
>>>>>>> Stashed changes
     "metadata": {},
     "output_type": "execute_result"
    }
   ],
   "source": [
    "pm"
   ]
  },
  {
   "cell_type": "code",
<<<<<<< Updated upstream
   "execution_count": 91,
=======
   "execution_count": 9,
>>>>>>> Stashed changes
   "metadata": {},
   "outputs": [],
   "source": [
    "# F1c=941799.5331\n",
    "# F2c=2260318.8795\n",
    "#qcc=0.033987702\n",
    "#Hc=1511.97\n",
    "#Normalizar termos não lineares\n",
    "##########################\n",
    "qch=(qch-qch_lim[0])/qcc\n",
    "F1=(F1-F1lim[0])/F1c\n",
    "F2=(F2-F2lim[0])/F2c\n",
    "H=(H-H_lim[0])/Hc\n",
    "###########################\n",
    "\n",
    "#pr*b1*PI/V1\n",
    "# qch=qch*qcc\n",
    "# F1=F1c*F1\n",
    "# F2=F2c*F2\n",
    "# H=Hc*H\n",
    "dpbhdt = (1/pbc)*b1/V1*(qr - (q*qc+qmin))\n",
    "dpwhdt = (1/pwc)*b2/V2*((q*qc+qmin) - (qcc*qch+qch_lim[0]))\n",
    "dqdt = (1/(qc*M))*(pbh*pbc+pbmin - (pwh*pwc+pwmin) - rho*g*hw - (F1c*F1+F1lim[0]) - (F2c*F2+F2lim[0]) + rho * g * (H*Hc+H_lim[0]))\n",
    "dfqdt = (fqref - fq)/tp[0];\n",
    "dzcdt = (zcref - zc)/tp[1];\n",
    "\n",
    "dxdt = vertcat(dpbhdt,dpwhdt,dqdt,dfqdt,dzcdt);\n",
    "\n",
    "# Restricao do Elemento Final\n",
    "dudt = vertcat(if_else(fabs(dfqdt)>dudt_max[0],sign(dfqdt)*dudt_max[0],dfqdt),\n",
    "       if_else(fabs(dzcdt)>dudt_max[1],sign(dzcdt)*dudt_max[1],dzcdt));"
   ]
  },
  {
   "cell_type": "code",
<<<<<<< Updated upstream
   "execution_count": 92,
=======
   "execution_count": 10,
>>>>>>> Stashed changes
   "metadata": {},
   "outputs": [
    {
     "data": {
      "text/plain": [
       "(DM(1.26805e+06), DM(3.04332e+06))"
      ]
     },
<<<<<<< Updated upstream
     "execution_count": 92,
=======
     "execution_count": 10,
>>>>>>> Stashed changes
     "metadata": {},
     "output_type": "execute_result"
    }
   ],
   "source": [
    "funcF1([0,0,1,0,0]),funcF2([0,0,1,0,0])"
   ]
  },
  {
   "cell_type": "code",
<<<<<<< Updated upstream
   "execution_count": 93,
=======
   "execution_count": 11,
>>>>>>> Stashed changes
   "metadata": {},
   "outputs": [],
   "source": [
    "# funcH([0,0,1,0,0],[2,0])"
   ]
  },
  {
   "cell_type": "code",
<<<<<<< Updated upstream
   "execution_count": 94,
=======
   "execution_count": 12,
>>>>>>> Stashed changes
   "metadata": {},
   "outputs": [
    {
     "name": "stdout",
     "output_type": "stream",
     "text": [
      "9319500.0\n",
      "490000000000.0\n",
      "1250000000000.0\n",
      "5.7870370370370366e-05\n",
      "2766666.6666666665\n",
      "8111.87 19468.5\n",
      "(DM(99811.5), DM(107923)) (DM(239548), DM(259016))\n",
      "1557.0851455268821 (-136.31543417849096, 1420.7697113483912)\n",
      "0.03290348005910621\n"
     ]
    }
   ],
   "source": [
    "print(rho*g*hw)\n",
    "print(pwc*pwmin)\n",
    "print(pbc*pbmin)\n",
    "print(qc*qmin)\n",
    "print((qc*M))\n",
    "print(F1c,F2c)\n",
    "print(F1lim,F2lim)\n",
    "print(Hc,H_lim)\n",
    "print(qcc)"
   ]
  },
  {
   "cell_type": "code",
<<<<<<< Updated upstream
   "execution_count": 95,
=======
   "execution_count": 13,
>>>>>>> Stashed changes
   "metadata": {},
   "outputs": [],
   "source": [
    "xss = np.float32(np.array([8311024.82175957,2990109.06207437,0.00995042241351780,50,50]))\n",
    "x0=np.array([pbmin,pwmin,qmin,0,0])\n",
    "xc=np.array([pbc,pwc,qc,1,1])\n",
    "xssn = (xss-x0)/xc\n"
   ]
  },
  {
   "cell_type": "code",
<<<<<<< Updated upstream
   "execution_count": 96,
=======
   "execution_count": 14,
>>>>>>> Stashed changes
   "metadata": {},
   "outputs": [
    {
     "data": {
      "text/plain": [
       "array([ 0.656882  ,  0.58981816,  0.41643043, 50.        , 50.        ])"
      ]
     },
<<<<<<< Updated upstream
     "execution_count": 96,
=======
     "execution_count": 14,
>>>>>>> Stashed changes
     "metadata": {},
     "output_type": "execute_result"
    }
   ],
   "source": [
    "\n",
    "xssn"
   ]
  },
  {
   "cell_type": "code",
<<<<<<< Updated upstream
   "execution_count": 97,
=======
   "execution_count": 15,
>>>>>>> Stashed changes
   "metadata": {},
   "outputs": [
    {
     "data": {
      "text/plain": [
       "[DM(-2.01836e-08), DM(1.82581e-08), DM(4.15065e-08)]"
      ]
     },
<<<<<<< Updated upstream
     "execution_count": 97,
=======
     "execution_count": 15,
>>>>>>> Stashed changes
     "metadata": {},
     "output_type": "execute_result"
    }
   ],
   "source": [
    "uss = np.array([50,50,20e5])\n",
    "funcx1dot=Function('funcx1dot',[u,x],[dxdt[0]])\n",
    "funcx2dot=Function('funcx2dot',[u,x],[dxdt[1]])\n",
    "funcx3dot=Function('funcx3dot',[u,x],[dxdt[2]])\n",
    "dx=[funcx1dot(uss,xssn), funcx2dot(uss,xssn),funcx3dot(uss,xssn)]\n",
    "\n",
    "dx"
   ]
  },
  {
   "cell_type": "code",
   "execution_count": null,
   "metadata": {},
   "outputs": [],
   "source": []
  },
  {
   "cell_type": "code",
<<<<<<< Updated upstream
   "execution_count": 98,
=======
   "execution_count": 16,
>>>>>>> Stashed changes
   "metadata": {},
   "outputs": [],
   "source": [
    "# Função casadi\n",
    "#dxdt = casadi.vertcat(dpbhdt,dpwhdt,dqdt) \n",
    "Eq_Estado = casadi.Function('Eq_Estado',[x,u,dudt_max],[vertcat(dpbhdt,dpwhdt,dqdt,dudt)],\n",
    "                     ['x','u','dudt_max'],['dxdt'])\n",
    "\n",
    "y=vertcat(pin,H);\n",
    "ny = y.size1()\n",
    "# Equações algébricas\n",
    "sea_nl = casadi.Function('sea_nl',[x,u],[y,pin,H],\\\n",
    "                 ['x','u'],['y','pin','H']); # Sistema de Eq. Algebricas variaveis de sa�da\n",
    "\n",
    "BCS={\n",
    "     'x': x,\n",
    "     'u': u,\n",
    "     'y': y,\n",
    "     'nx': nx,\n",
    "     'nu': nu,\n",
    "     'ny': ny,\n",
    "     'NaoLinear': {'sedo_nl': Eq_Estado(x,u,[dfq_max,dzc_max]),\n",
    "                   'sea_nl': sea_nl\n",
    "                   }\n",
    "}\n",
    "#%% Calculo do estacionario\n",
    "#% Func��o objetivo\n",
    "dxdt_0 = Eq_Estado(BCS['x'], BCS['u'],[dfq_max,dzc_max]);\n",
    "J = sum1(dxdt_0**2);\n",
    "#% Otimizador\n",
    "opt={\n",
    "     'ipopt':{\n",
    "         'print_level':0,\n",
    "         'acceptable_tol':1e-8,\n",
    "         'acceptable_obj_change_tol':1e-6,\n",
    "         'max_iter':50\n",
    "         },\n",
    "     'print_time':0,\n",
    "     }\n",
    "\n",
    "opt['ipopt']['print_level']=0;# %0,3\n",
    "opt['print_time']=0;\n",
    "opt['ipopt']['acceptable_tol']=1e-8;\n",
    "opt['ipopt']['acceptable_obj_change_tol']=1e-6;\n",
    "opt['ipopt']['max_iter']=50;\n",
    "\n"
   ]
  },
  {
   "cell_type": "code",
<<<<<<< Updated upstream
   "execution_count": 99,
=======
   "execution_count": 17,
>>>>>>> Stashed changes
   "metadata": {},
   "outputs": [
    {
     "name": "stdout",
     "output_type": "stream",
     "text": [
      "[8.31102e+06, 2.99011e+06, 0.00995042, 50, 50] [8.311025e+06 2.990109e+06 9.950423e-03 5.000000e+01 5.000000e+01]\n"
     ]
    }
   ],
   "source": [
    "MMQ = {'x':BCS['x'], 'f':J, 'p':BCS['u']}\n",
    "#nlp={'x':vertcat(BCS['x'],BCS['u']), 'f':J} #variáveis de decisão, função f, g (N/A)\n",
    "#nlp={'x':BCS['x'], 'f':J}\n",
    "solver = nlpsol('solver', 'ipopt', MMQ, opt)\n",
    "# Restrições das variaveis de decis�o\n",
    "# minimo\n",
    "args={\n",
    "      'lbx': np.zeros((nx,1)),\n",
    "# m�ximo\n",
    "      'ubx':np.full((nx, 1), np.inf)\n",
    "      }\n",
    "\n",
    "# Solu��o do otimizador\n",
    "sol=solver(x0=BCS['x'], lbx=args['lbx'], ubx=args['ubx'], p=BCS['u']);\n",
    "yss=sea_nl(sol['x'],BCS['u'])\n",
    "Estacionario = Function('Estacionario',[BCS['x'],BCS['u']],\\\n",
    "    [sol['x'],yss[0]],\\\n",
    "    ['x0','uss'],['xss','yss']);\n",
    "\n",
    "BCS['Estacionario'] = Estacionario;\n",
    "f_ss,zc_ss,pm_ss= (np.array([50, 50,20e5]))\n",
    "uss = np.array([f_ss,zc_ss,pm_ss]); # Entradas do estacionario\n",
    "# uss_n=normalizar_u(uss,unorm)\n",
    "# uss_n\n",
    "\n",
    "sol=solver(x0=xssn, p=uss);\n",
    "\n",
    "print(sol['x']*xc+x0, xss)\n",
    "#sol['x']*xc\n",
    "\n"
   ]
  },
  {
   "cell_type": "code",
<<<<<<< Updated upstream
   "execution_count": 100,
=======
   "execution_count": 18,
>>>>>>> Stashed changes
   "metadata": {},
   "outputs": [
    {
     "name": "stdout",
     "output_type": "stream",
     "text": [
      "[8.31102e+06, 2.99011e+06, 0.00995042, 50, 50]\n",
      "[7.60028e+06, 1.44545e+06, 0.0115994, 50, 50]\n"
     ]
    }
   ],
   "source": [
    "sol=solver(x0=xssn, p=np.array([50, 50,20e5]));\n",
    "print(sol['x']*xc+x0)\n",
    "sol=solver(x0=xssn, p=np.array([50, 50,1e5]));\n",
    "print(sol['x']*xc+x0)"
   ]
  },
  {
   "cell_type": "code",
   "execution_count": null,
   "metadata": {},
   "outputs": [],
   "source": []
  },
  {
   "cell_type": "code",
<<<<<<< Updated upstream
   "execution_count": 101,
=======
   "execution_count": 19,
>>>>>>> Stashed changes
   "metadata": {},
   "outputs": [],
   "source": [
    "# Definir variaveis manipuladas e controladas e disturbio externo\n",
    "mv = [0,1]    #% [f, Zc]\n",
    "pv = [0,1]  #% [pin, H]  #% [P, I]\n",
    "#pv = [2,3];  #% [pin, H]\n",
    "de = [0];      #% [pm]\n",
    "tg = 2;      #% MV target\n",
    "#% Parametros\n",
    "ts = 1;\n",
    "#%Modelo de predição\n",
    "#% Criando o objeto para predição do modelo\n",
    "# Iniciando variavel dicionário para a construção da EDO\n",
    "# sedo = {'x': BCS['x'][0:3], # Estados\n",
    "#         'p': BCS['u'], #Variáveis exogenas\n",
    "#         'ode': BCS['NaoLinear']['sedo_nl'] # SEDO (Gerado no bcs_settings)\n",
    "#         };\n",
    "\n",
    "sedo = {'x': BCS['x'], # Estados\n",
    "        'p': BCS['u'], #Variáveis exogenas\n",
    "        'ode': Eq_Estado(x,u,[dfq_max,dzc_max]) # SEDO (Gerado no bcs_settings)\n",
    "        };\n",
    "\n",
    "#% Criando o objeto p,ra integração da Eq_estado\n",
    "opt = {'tf':ts,\n",
    "       't0':0\n",
    "\n",
    "       };   #% opções do integrador"
   ]
  },
  {
   "cell_type": "code",
<<<<<<< Updated upstream
   "execution_count": 102,
=======
   "execution_count": 20,
>>>>>>> Stashed changes
   "metadata": {},
   "outputs": [],
   "source": [
    "int_odes = integrator('int_odes','cvodes',sedo,opt);\n",
    "# objeto integrador\n",
    "res = int_odes(x0=BCS['x'],p=BCS['u']);             #   % solução um passo a frente\n",
    "npv = len(pv); nmv = len(mv); nde=len(de)"
   ]
  },
  {
   "cell_type": "code",
<<<<<<< Updated upstream
   "execution_count": 103,
=======
   "execution_count": 21,
>>>>>>> Stashed changes
   "metadata": {},
   "outputs": [],
   "source": [
    "# Criando o objeto para solução da equação de medição\n",
    "Eq_medicao = Function('Eq_medicao',[BCS['x'],BCS['u']],[BCS['y'][pv]],['x','u'],['y']);\n",
    "# Criacao do objeto para simulacao do BCS Eq de estado + Eq de Medicao\n",
    "Modelo_Predicao = Function('Modelo_Predicao',[BCS['x'],BCS['u']],[res['xf'],Eq_medicao(res['xf'],BCS['u'])],['xk_1','uk_1'],['xk','yk']);\n",
    "Modelo_Predicao2 = Function('Modelo_Predicao2',[BCS['x'],BCS['u']],[res['xf']],['xk_1','uk_1'],['xk']);"
   ]
  },
  {
   "cell_type": "code",
<<<<<<< Updated upstream
   "execution_count": 104,
=======
   "execution_count": 22,
>>>>>>> Stashed changes
   "metadata": {},
   "outputs": [],
   "source": [
    "xpk = xss;\n",
    "uss\n",
    "#xpk=normalizar(xss,xnorm)\n",
    "\n",
    "#uk_1 = normaliza_u(uss[mv],unorm)\n",
    "#uk_1=(uss[mv]-unorm[:,0])/unorm[:,1]\n",
    "# MVS\n",
    "# Aloca��o de variaveis\n",
    "Xk = np.zeros((nx,1))"
   ]
  },
  {
   "cell_type": "code",
<<<<<<< Updated upstream
   "execution_count": 105,
=======
   "execution_count": 23,
>>>>>>> Stashed changes
   "metadata": {},
   "outputs": [
    {
     "data": {
      "text/plain": [
       "2"
      ]
     },
<<<<<<< Updated upstream
     "execution_count": 105,
=======
     "execution_count": 23,
>>>>>>> Stashed changes
     "metadata": {},
     "output_type": "execute_result"
    }
   ],
   "source": [
    "nmv"
   ]
  },
  {
   "cell_type": "code",
<<<<<<< Updated upstream
   "execution_count": 106,
=======
   "execution_count": 24,
>>>>>>> Stashed changes
   "metadata": {},
   "outputs": [],
   "source": [
    "Yk = np.zeros((npv,1))\n",
    "Uk = np.zeros((nmv+nde,1))\n",
    "Ymk = Yk\n",
    "Ys = Yk\n",
    "Ymin = Yk\n",
    "Ymax = Yk"
   ]
  },
  {
   "cell_type": "code",
<<<<<<< Updated upstream
   "execution_count": 107,
=======
   "execution_count": 25,
>>>>>>> Stashed changes
   "metadata": {},
   "outputs": [],
   "source": [
    "tsim = 10*60; \n",
    "nsim=int(round(tsim/ts)+1)\n",
    "xss_n=xssn\n"
   ]
  },
  {
   "cell_type": "code",
<<<<<<< Updated upstream
   "execution_count": 108,
   "metadata": {},
   "outputs": [],
   "source": [
    "inst=[0,120,240,360,600]\n"
   ]
  },
  {
   "cell_type": "code",
   "execution_count": 109,
=======
   "execution_count": 26,
>>>>>>> Stashed changes
   "metadata": {},
   "outputs": [],
   "source": [
    "#Valores iniciais de simulação\n",
    "tss=5 # Tempo inicial no estacionário\n",
    "Uk= uss\n",
    "# Povoar vetor de X com dados não normalizados\n",
    "def lpf(x, omega_c, T):\n",
    "    \"\"\"Implement a first-order low-pass filter. \n",
    "    The input data is x, the filter's cutoff frequency is omega_c \n",
    "    [rad/s] and the sample time is T [s].  The output is y.\n",
    "    \"\"\"\n",
    "    N=x.shape[0]\n",
    "    y = x\n",
    "    alpha = (2-T*omega_c)/(2+T*omega_c)\n",
    "    beta = T*omega_c/(2+T*omega_c)\n",
    "    for k in range(1, N):\n",
    "        y[k] = alpha*y[k-1] + beta*(x[k]+x[k-1])\n",
    "    return y\n",
    "\n",
    "def step_function(tsim):\n",
    "    x=np.arange(0,tsim)\n",
    "    val_pm=[20e5,28e5,14e5,20e5]\n",
    "    val_f=[57,54,63,50]\n",
    "    list_f=[(x >= 0) & (x<60),  (x >=60) & (x<120),(x >= 120) & (x < 240), x>=240]\n",
    "    list_pm=[(x >= 0) & (x<120),  (x >=120) & (x<240),(x >= 240) & (x < 400), x>=400]\n",
    "    pm=np.piecewise(x,list_pm,val_pm)\n",
    "    fk=np.piecewise(x,list_f, val_f)\n",
    "\n",
    "    Wn=2*pi*1/80    \n",
    "    pm_f=lpf(pm,Wn,1)\n",
    "    return fk,pm_f"
   ]
  },
  {
   "cell_type": "code",
<<<<<<< Updated upstream
   "execution_count": 110,
=======
   "execution_count": 27,
>>>>>>> Stashed changes
   "metadata": {},
   "outputs": [
    {
     "data": {
      "text/plain": [
       "DM(592.126)"
      ]
     },
<<<<<<< Updated upstream
     "execution_count": 110,
=======
     "execution_count": 27,
>>>>>>> Stashed changes
     "metadata": {},
     "output_type": "execute_result"
    }
   ],
   "source": [
    "xpk = Modelo_Predicao2(xssn,uss) #valores normalizados\n",
    "ypk=sea_nl(xpk,uss)[0]\n",
    "Yk=ypk*np.array([1,Hc])+[0,H_lim[0]]\n",
    "ypk[1]*Hc+H_lim[0]"
   ]
  },
  {
   "cell_type": "code",
<<<<<<< Updated upstream
   "execution_count": 111,
=======
   "execution_count": 28,
   "metadata": {},
   "outputs": [
    {
     "data": {
      "text/plain": [
       "MX(u[2])"
      ]
     },
     "execution_count": 28,
     "metadata": {},
     "output_type": "execute_result"
    }
   ],
   "source": [
    "pm"
   ]
  },
  {
   "cell_type": "code",
   "execution_count": 29,
   "metadata": {},
   "outputs": [
    {
     "data": {
      "text/plain": [
       "[70]"
      ]
     },
     "execution_count": 29,
     "metadata": {},
     "output_type": "execute_result"
    }
   ],
   "source": [
    "[70]"
   ]
  },
  {
   "cell_type": "code",
   "execution_count": 30,
>>>>>>> Stashed changes
   "metadata": {},
   "outputs": [],
   "source": [
    "uk_1 = np.array([[40], [70], [pm_ss]]);\n",
    "nstep = tsim\n",
    "a_range = [35,65]\n",
    "b_range = [60,100]\n",
    "\n",
    "u_f,prbs=APRBS(a_range,b_range,nstep)\n",
    "u_z,prbs=APRBS([90,100],[200,300],nstep)\n",
    "\n",
    "pm_z,prbs=APRBS([12*1e5,27*1e5],[500,550],nstep)\n",
    "# u_f=np.ones_like(pm_z)*40\n",
    "# u_z=np.ones_like(pm_z)*70\n",
    "#dados = np.load('BCS_data_train_limitado_f_zc5.npz')\n",
    "# u_f=dados['f']\n",
    "# u_z=dados['zc']\n",
    "uk_1 = np.array([u_f,u_z,pm_z]);\n",
    "u_f,pm_z=step_function(tsim)\n",
    "uk_1 = np.array([u_f,u_z,pm_z]);\n",
    "xi=(np.arange(0,int(nsim*ts)-1,ts));\n",
    "#xi=np.arange(0,10,ts)\n",
    "xi.shape\n",
    "Xk=xpk*xc+x0\n",
    "# uss\n",
    "\n",
    "\n"
   ]
  },
  {
   "cell_type": "code",
<<<<<<< Updated upstream
   "execution_count": null,
   "metadata": {},
   "outputs": [],
   "source": []
  },
  {
   "cell_type": "code",
   "execution_count": 112,
=======
   "execution_count": 31,
>>>>>>> Stashed changes
   "metadata": {},
   "outputs": [
    {
     "name": "stdout",
     "output_type": "stream",
     "text": [
      "Simulação iniciada\n",
      "Ok.simulação concluida\n"
     ]
    },
    {
     "data": {
      "text/plain": [
       "(1, 600)"
      ]
     },
<<<<<<< Updated upstream
     "execution_count": 112,
=======
     "execution_count": 31,
>>>>>>> Stashed changes
     "metadata": {},
     "output_type": "execute_result"
    }
   ],
   "source": [
    "print(\"Simulação iniciada\")\n",
    "\n",
    "#for k in range(1,5):\n",
    "for k in range(1,nsim-1):\n",
    "    xpk = Modelo_Predicao2(xpk,uk_1[:,k])\n",
    "    Xk = hcat([Xk,xpk*xc+x0]) #desnormalizar x e preencher vetor\n",
    "    ypk=sea_nl(xpk,uk_1[:,k])[0]\n",
    "    Yk = hcat([Yk,ypk*np.array([1,Hc])+[0,H_lim[0]]]);\n",
    "    Uk = hcat([Uk,uk_1[:,k]])\n",
    "\n",
    "#print(\"Xk shape =\"+str(Xk.shape))\n",
    "# print(\"Uk shape =\"+str(Uk.shape))\n",
    "# print(\"Yk shape =\"+str(Uk.shape))\n",
    "# print(\"xi shape =\"+str(xi.shape))\n",
    "print(\"Ok.simulação concluida\")\n",
    "Xk[0,:].shape"
   ]
  },
  {
   "cell_type": "code",
<<<<<<< Updated upstream
   "execution_count": 113,
=======
   "execution_count": 32,
>>>>>>> Stashed changes
   "metadata": {},
   "outputs": [],
   "source": [
    "# fig1=plt.figure()\n",
    "# label = [r'$p_{in}(bar)$','H(m)','P','I','qc','qr' ];\n",
    "# for iy in range(0,npv):\n",
    "#     ax = fig1.add_subplot(npv,1,iy+1)\n",
    "#     #print(iy)\n",
    "#     if iy == 0: # Pin\n",
    "#         ax.plot(xi,(Yk[iy,:].T)/1e5, label='Medição')\n",
    "#         #ax.plot(xi,Ymk[iy,:].T/1e5, label='EKF')\n",
    "#         ax.set_ylabel(label[iy])\n",
    "#         ax.set(xlim=(xi[0], nsim*ts))\n",
    "#        # ax.set(ylim=(40,62))\n",
    "#         plt.grid(True)\n",
    "#     else: # H\n",
    "#         ax.plot(xi,Yk[iy,:].T, label='Medição')\n",
    "#         #ax.plot(xi,Ymk[iy,:].T,label='EKF')\n",
    "#         ax.set_ylabel(label[iy])\n",
    "#         ax.set(xlim=(xi[0], nsim*ts))\n",
    "#        # ax.set(ylim=(580, 850))\n",
    "#         plt.grid(True)\n",
    "# #ax.plot(xi,Yk[2,:].T, label='EKF')\n",
    "# ax.legend();\n",
    "# ax.set_xlabel('Time (nT)')\n",
    "# fig1.show()\n"
   ]
  },
  {
   "cell_type": "code",
<<<<<<< Updated upstream
   "execution_count": 114,
=======
   "execution_count": 33,
>>>>>>> Stashed changes
   "metadata": {},
   "outputs": [
    {
     "name": "stdout",
     "output_type": "stream",
     "text": [
      "0\n",
      "1\n",
      "2\n"
     ]
    }
   ],
   "source": [
    "# #% Restrição\n",
    "umin  = np.array([35, 70]); np.transpose(umin);  # lower bounds of inputs\n",
    "umax  = np.array([65, 100]); np.transpose(umax); # upper bounds of inputs\n",
    "dumax = np.array([0.5, dzc_max]); np.transpose(dumax);\n",
    "fig2=plt.figure()\n",
    "label = ['f(Hz)',r'$z_c$(%)', \"pm(bar)\",\"pr\"];\n",
    "Uk[2:,:]=Uk[2:,:]/1e5\n",
    "\n",
    "for i,str in enumerate(label):\n",
    "    print(i)\n",
    "    ax=fig2.add_subplot(nmv+nde,1,i+1)\n",
    "    ax.plot(xi,Uk[i,:].T, label='Medição')\n",
    "    if i<2:\n",
    "        ax.plot([1,nsim],[umin[i], umin[i]],'--r')\n",
    "        ax.plot([1,nsim],[umax[i], umax[i]],'--r', label='Restrição')\n",
    "    ax.set_ylabel(str)\n",
    "    ax.set(xlim=(xi[0], nsim*ts))\n",
    "    if i==0:\n",
    "        ax.set(ylim=(30, 70))\n",
    "    plt.grid(True)\n",
    "\n",
    "    \n",
    "\n",
    "\n",
    "# for iu in range(0,nmv):\n",
    "#     ax2=fig2.add_subplot(nmv+nde,1,iu+1)\n",
    "#     ax2.plot(xi,Uk[iu,:].T, label='Medição')\n",
    "#     ax2.plot([1,nsim],[umin[iu], umin[iu]],'--r')\n",
    "#     ax2.plot([1,nsim],[umax[iu], umax[iu]],'--r', label='Restrição')\n",
    "#     ax2.set_ylabel(label[iu])\n",
    "#     ax2.set(xlim=(xi[0], nsim*ts))\n",
    "#     if iu==0:\n",
    "#         ax2.set(ylim=(30, 70))\n",
    "\n",
    "#     plt.grid(True)\n"
   ]
  },
  {
   "cell_type": "code",
<<<<<<< Updated upstream
   "execution_count": null,
   "metadata": {},
   "outputs": [],
   "source": []
  },
  {
   "cell_type": "code",
   "execution_count": 115,
=======
   "execution_count": 34,
>>>>>>> Stashed changes
   "metadata": {},
   "outputs": [],
   "source": [
    "fig3=plt.figure()\n",
    "label = ['Pbh (bar)','Pwh (bar)','q(m3/s)'];\n",
    "for iu in range(0,3):\n",
    "    ax3=fig3.add_subplot(3,1,iu+1)\n",
    "    if iu==2:\n",
    "        ax3.plot(xi,(Xk[iu,:].T)*3600, label='Medição')\n",
    "        #ax3.plot([1,nsim],[umin[iu], umin[iu]],'--r')\n",
    "        #ax3.plot([1,nsim],[umax[iu], umax[iu]],'--r', label='Restrição')\n",
    "        ax3.set_ylabel(label[iu])\n",
    "        #ax3.set(xlim=(xi[0], nsim*ts))\n",
    "        # if iu==0:\n",
    "        #     #ax2.set(ylim=(30, 70))\n",
    "        #     print(iu)\n",
    "        plt.grid(True)\n",
    "    else:\n",
    "        ax3.plot(xi,Xk[iu,:].T/1e5, label='Medição')\n",
    "        #ax3.plot([1,nsim],[umin[iu], umin[iu]],'--r')\n",
    "        #ax3.plot([1,nsim],[umax[iu], umax[iu]],'--r', label='Restrição')\n",
    "        ax3.set_ylabel(label[iu])\n",
    "        #ax3.set(xlim=(xi[0], nsim*ts))\n",
    "        # if iu==0:\n",
    "        #     #ax2.set(ylim=(30, 70))\n",
    "        #     print(iu)\n",
    "        plt.grid(True)\n"
   ]
  },
  {
   "cell_type": "code",
<<<<<<< Updated upstream
   "execution_count": 116,
=======
   "execution_count": 35,
>>>>>>> Stashed changes
   "metadata": {},
   "outputs": [],
   "source": [
    "# Xk[2,:]=Xk[2,:]*xc[2] #desnormalizar vazão\n",
    "# Yk[1,:]=Yk[1,:]*Hc #desnormalizar Head"
   ]
  },
  {
   "cell_type": "code",
<<<<<<< Updated upstream
   "execution_count": 117,
   "metadata": {},
   "outputs": [
    {
     "name": "stdout",
     "output_type": "stream",
     "text": [
      "Envelope carregado\n"
=======
   "execution_count": 36,
   "metadata": {},
   "outputs": [
    {
     "ename": "FileNotFoundError",
     "evalue": "[Errno 2] No such file or directory: 'envelope.py'",
     "output_type": "error",
     "traceback": [
      "\u001b[0;31m---------------------------------------------------------------------------\u001b[0m",
      "\u001b[0;31mFileNotFoundError\u001b[0m                         Traceback (most recent call last)",
      "\u001b[0;32m<ipython-input-36-36a18f0bb516>\u001b[0m in \u001b[0;36m<module>\u001b[0;34m\u001b[0m\n\u001b[0;32m----> 1\u001b[0;31m \u001b[0mexec\u001b[0m\u001b[0;34m(\u001b[0m\u001b[0mcompile\u001b[0m\u001b[0;34m(\u001b[0m\u001b[0mopen\u001b[0m\u001b[0;34m(\u001b[0m\u001b[0;34m'envelope.py'\u001b[0m\u001b[0;34m,\u001b[0m \u001b[0;34m\"rb\"\u001b[0m\u001b[0;34m)\u001b[0m\u001b[0;34m.\u001b[0m\u001b[0mread\u001b[0m\u001b[0;34m(\u001b[0m\u001b[0;34m)\u001b[0m\u001b[0;34m,\u001b[0m \u001b[0;34m'envelope.py'\u001b[0m\u001b[0;34m,\u001b[0m \u001b[0;34m'exec'\u001b[0m\u001b[0;34m)\u001b[0m\u001b[0;34m)\u001b[0m \u001b[0;31m#% Roda arquivo com parâmetros do modelo BCS\u001b[0m\u001b[0;34m\u001b[0m\u001b[0;34m\u001b[0m\u001b[0m\n\u001b[0m\u001b[1;32m      2\u001b[0m \u001b[0mfig4\u001b[0m\u001b[0;34m,\u001b[0m\u001b[0max4\u001b[0m\u001b[0;34m=\u001b[0m\u001b[0mplt\u001b[0m\u001b[0;34m.\u001b[0m\u001b[0msubplots\u001b[0m\u001b[0;34m(\u001b[0m\u001b[0;34m)\u001b[0m\u001b[0;34m\u001b[0m\u001b[0;34m\u001b[0m\u001b[0m\n\u001b[1;32m      3\u001b[0m \u001b[0mplt\u001b[0m\u001b[0;34m.\u001b[0m\u001b[0mgrid\u001b[0m\u001b[0;34m(\u001b[0m\u001b[0;32mTrue\u001b[0m\u001b[0;34m)\u001b[0m\u001b[0;34m\u001b[0m\u001b[0;34m\u001b[0m\u001b[0m\n\u001b[1;32m      4\u001b[0m \u001b[0mBCS\u001b[0m\u001b[0;34m[\u001b[0m\u001b[0;34m'Envelope'\u001b[0m\u001b[0;34m]\u001b[0m\u001b[0;34m[\u001b[0m\u001b[0;34m'fig'\u001b[0m\u001b[0;34m]\u001b[0m\u001b[0;34m(\u001b[0m\u001b[0max4\u001b[0m\u001b[0;34m)\u001b[0m\u001b[0;34m;\u001b[0m \u001b[0;31m# grafico do envelope\u001b[0m\u001b[0;34m\u001b[0m\u001b[0;34m\u001b[0m\u001b[0m\n\u001b[1;32m      5\u001b[0m \u001b[0;31m#\u001b[0m\u001b[0;34m\u001b[0m\u001b[0;34m\u001b[0m\u001b[0;34m\u001b[0m\u001b[0m\n",
      "\u001b[0;31mFileNotFoundError\u001b[0m: [Errno 2] No such file or directory: 'envelope.py'"
>>>>>>> Stashed changes
     ]
    }
   ],
   "source": [
    "exec(compile(open('envelope.py', \"rb\").read(), 'envelope.py', 'exec')) #% Roda arquivo com parâmetros do modelo BCS\n",
    "fig4,ax4=plt.subplots()\n",
    "plt.grid(True)\n",
    "BCS['Envelope']['fig'](ax4); # grafico do envelope\n",
    "#\n",
    "# Evolução dentro do envelope\n",
    "ax4.plot(Xk[2,0:].T*3600,Yk[1,0:].T,'--k')\n",
    "ax4.plot(Xk[2,0]*3600,Yk[1,0],'o')#,'MarkerFaceColor',[0,1,0],'MarkerEdgeColor',[0,0,0])\n",
    "ax4.plot(Xk[2,-1]*3600,Yk[1,-1],'o')#,'MarkerFaceColor',[1,0,0],'MarkerEdgeColor',[0,0,0])\n",
    "ax4.annotate('t=0',\n",
    "             xy=(float(Xk[2,0]*3600),float(Yk[1,0])),\n",
    "             xytext=(float(Xk[2,0]*3600)-5,float(Yk[1,0])+10),\n",
    "             arrowprops=dict(facecolor='green', shrink=0.01))\n",
    "\n",
    "ax4.annotate(f't={nsim}',\n",
    "             xy=(float(Xk[2,-1]*3600),float(Yk[1,-1])),\n",
    "             xytext=(float(Xk[2,-1]*3600)-7,float(Yk[1,-1])+10),\n",
    "             arrowprops=dict(facecolor='red', shrink=0.01))\n",
    "plt.show()\n",
    "\n"
   ]
  },
  {
   "cell_type": "code",
   "execution_count": 118,
   "metadata": {},
   "outputs": [],
   "source": [
    "np.savez('BCS_data_train_limitado_f_zc_pm_oper.npz', t=xi, x1=Xk[0,:].T,x2=Xk[1,:].T,x3=Xk[2,:].T,x4=Xk[3,:].T,x5=Xk[4,:].T,f=u_f, zc=u_z, pm_z=pm_z)"
   ]
  },
  {
   "cell_type": "code",
   "execution_count": 119,
   "metadata": {},
   "outputs": [
    {
     "data": {
      "text/plain": [
       "(600,)"
      ]
     },
     "execution_count": 119,
     "metadata": {},
     "output_type": "execute_result"
    }
   ],
   "source": [
    "u_f.shape\n",
    "\n",
    "xi.shape"
   ]
  },
  {
   "cell_type": "code",
   "execution_count": 120,
   "metadata": {},
   "outputs": [],
   "source": [
    "def dydt(y_pred,ts):\n",
    "    #Central 4 pontos\n",
    "    y = y_pred\n",
    "    n=y.shape[1]\n",
    "    try:\n",
    "        if n<6:\n",
    "            raise Exception(\"Model output size must have at least 6 time points \")          \n",
    "    except Exception as inst:\n",
    "        print(inst.args)\n",
    "        raise\n",
    "    #Progressiva e regressiva 3 pontos\n",
    "    pro3=tf.constant([[-3,4,-1]],dtype=tf.float32)/(2*ts)\n",
    "    reg3=tf.constant([[1,-4,3]],dtype=tf.float32)/(2*ts)\n",
    "    d1=tf.matmul(pro3,y_pred[:,0:3,:])\n",
    "    dn=tf.matmul(reg3,y_pred[:,-3:,:])\n",
    "    #Central 2 pontos\n",
    "    dc=(y_pred[:,2:n,:]-y_pred[:,0:n-2,:])/(2*ts)        \n",
    "    return tf.concat([d1,dc,dn],axis=1)"
   ]
  },
  {
   "cell_type": "code",
   "execution_count": 121,
   "metadata": {},
   "outputs": [
    {
     "name": "stdout",
     "output_type": "stream",
     "text": [
      "[[0.656882   0.5898182  0.4164304 ]\n",
      " [0.6553685  0.58900666 0.42787546]\n",
      " [0.65092224 0.5884829  0.4411129 ]]\n",
      "tf.Tensor(\n",
      "[[5.700000e+01 9.843255e+01 2.000000e+06]\n",
      " [5.700000e+01 9.843255e+01 2.000000e+06]], shape=(2, 3), dtype=float32)\n"
     ]
    }
   ],
   "source": [
    "y=Xk[0:3,:].T\n",
    "ytt=tf.convert_to_tensor(y, dtype=tf.float32)\n",
    "#y[0:1,:]-x0[0:3]\n",
    "y[0:1,:].shape\n",
    "x_min=x0[0:3].reshape(1,3)\n",
    "xcc=xc[0:3].reshape(1,3)\n",
    "yn=np.zeros_like(ytt)\n",
    "for i in np.arange(ytt.shape[0]):\n",
    "    yn[i:i+1,:]=(ytt[i:i+1,:]-x_min)/xcc\n",
    "print(yn[0:3,:])\n",
    "utt=tf.convert_to_tensor(uk_1.T, dtype=tf.float32)\n",
    "print(utt[0:2,:])"
   ]
  },
  {
   "cell_type": "code",
   "execution_count": 122,
   "metadata": {},
   "outputs": [
    {
     "ename": "InvalidArgumentError",
     "evalue": "Input to reshape is a tensor with 1800 values, but the requested shape has 1200 [Op:Reshape]",
     "output_type": "error",
     "traceback": [
      "\u001b[0;31m---------------------------------------------------------------------------\u001b[0m",
      "\u001b[0;31mInvalidArgumentError\u001b[0m                      Traceback (most recent call last)",
      "\u001b[0;32m<ipython-input-122-e729081c10d1>\u001b[0m in \u001b[0;36m<module>\u001b[0;34m\u001b[0m\n\u001b[1;32m      1\u001b[0m \u001b[0;31m#Testing residues\u001b[0m\u001b[0;34m\u001b[0m\u001b[0;34m\u001b[0m\u001b[0;34m\u001b[0m\u001b[0m\n\u001b[0;32m----> 2\u001b[0;31m \u001b[0mutt\u001b[0m\u001b[0;34m=\u001b[0m\u001b[0mtf\u001b[0m\u001b[0;34m.\u001b[0m\u001b[0mreshape\u001b[0m\u001b[0;34m(\u001b[0m\u001b[0mutt\u001b[0m\u001b[0;34m,\u001b[0m\u001b[0;34m[\u001b[0m\u001b[0mutt\u001b[0m\u001b[0;34m.\u001b[0m\u001b[0mshape\u001b[0m\u001b[0;34m[\u001b[0m\u001b[0;36m0\u001b[0m\u001b[0;34m]\u001b[0m\u001b[0;34m,\u001b[0m\u001b[0;36m2\u001b[0m\u001b[0;34m]\u001b[0m\u001b[0;34m)\u001b[0m\u001b[0;34m\u001b[0m\u001b[0;34m\u001b[0m\u001b[0m\n\u001b[0m\u001b[1;32m      3\u001b[0m \u001b[0mytt\u001b[0m\u001b[0;34m=\u001b[0m\u001b[0mtf\u001b[0m\u001b[0;34m.\u001b[0m\u001b[0mconvert_to_tensor\u001b[0m\u001b[0;34m(\u001b[0m\u001b[0;34m(\u001b[0m\u001b[0mXk\u001b[0m\u001b[0;34m[\u001b[0m\u001b[0;36m0\u001b[0m\u001b[0;34m:\u001b[0m\u001b[0;36m3\u001b[0m\u001b[0;34m,\u001b[0m\u001b[0;34m:\u001b[0m\u001b[0;34m]\u001b[0m\u001b[0;34m.\u001b[0m\u001b[0mT\u001b[0m\u001b[0;34m)\u001b[0m\u001b[0;34m,\u001b[0m \u001b[0mdtype\u001b[0m\u001b[0;34m=\u001b[0m\u001b[0mtf\u001b[0m\u001b[0;34m.\u001b[0m\u001b[0mfloat32\u001b[0m\u001b[0;34m)\u001b[0m\u001b[0;34m\u001b[0m\u001b[0;34m\u001b[0m\u001b[0m\n\u001b[1;32m      4\u001b[0m \u001b[0mfq\u001b[0m\u001b[0;34m,\u001b[0m\u001b[0mzc\u001b[0m\u001b[0;34m=\u001b[0m\u001b[0mutt\u001b[0m\u001b[0;34m[\u001b[0m\u001b[0;34m:\u001b[0m\u001b[0;34m,\u001b[0m\u001b[0;36m0\u001b[0m\u001b[0;34m:\u001b[0m\u001b[0;36m1\u001b[0m\u001b[0;34m]\u001b[0m\u001b[0;34m,\u001b[0m\u001b[0mutt\u001b[0m\u001b[0;34m[\u001b[0m\u001b[0;34m:\u001b[0m\u001b[0;34m,\u001b[0m\u001b[0;36m1\u001b[0m\u001b[0;34m:\u001b[0m\u001b[0;34m]\u001b[0m\u001b[0;34m\u001b[0m\u001b[0;34m\u001b[0m\u001b[0m\n\u001b[1;32m      5\u001b[0m \u001b[0mprint\u001b[0m\u001b[0;34m(\u001b[0m\u001b[0mfq\u001b[0m\u001b[0;34m.\u001b[0m\u001b[0mshape\u001b[0m\u001b[0;34m)\u001b[0m\u001b[0;34m\u001b[0m\u001b[0;34m\u001b[0m\u001b[0m\n",
      "\u001b[0;32m~/anaconda3/envs/BCS/lib/python3.9/site-packages/tensorflow/python/util/dispatch.py\u001b[0m in \u001b[0;36mwrapper\u001b[0;34m(*args, **kwargs)\u001b[0m\n\u001b[1;32m    204\u001b[0m     \u001b[0;34m\"\"\"Call target, and fall back on dispatchers if there is a TypeError.\"\"\"\u001b[0m\u001b[0;34m\u001b[0m\u001b[0;34m\u001b[0m\u001b[0m\n\u001b[1;32m    205\u001b[0m     \u001b[0;32mtry\u001b[0m\u001b[0;34m:\u001b[0m\u001b[0;34m\u001b[0m\u001b[0;34m\u001b[0m\u001b[0m\n\u001b[0;32m--> 206\u001b[0;31m       \u001b[0;32mreturn\u001b[0m \u001b[0mtarget\u001b[0m\u001b[0;34m(\u001b[0m\u001b[0;34m*\u001b[0m\u001b[0margs\u001b[0m\u001b[0;34m,\u001b[0m \u001b[0;34m**\u001b[0m\u001b[0mkwargs\u001b[0m\u001b[0;34m)\u001b[0m\u001b[0;34m\u001b[0m\u001b[0;34m\u001b[0m\u001b[0m\n\u001b[0m\u001b[1;32m    207\u001b[0m     \u001b[0;32mexcept\u001b[0m \u001b[0;34m(\u001b[0m\u001b[0mTypeError\u001b[0m\u001b[0;34m,\u001b[0m \u001b[0mValueError\u001b[0m\u001b[0;34m)\u001b[0m\u001b[0;34m:\u001b[0m\u001b[0;34m\u001b[0m\u001b[0;34m\u001b[0m\u001b[0m\n\u001b[1;32m    208\u001b[0m       \u001b[0;31m# Note: convert_to_eager_tensor currently raises a ValueError, not a\u001b[0m\u001b[0;34m\u001b[0m\u001b[0;34m\u001b[0m\u001b[0;34m\u001b[0m\u001b[0m\n",
      "\u001b[0;32m~/anaconda3/envs/BCS/lib/python3.9/site-packages/tensorflow/python/ops/array_ops.py\u001b[0m in \u001b[0;36mreshape\u001b[0;34m(tensor, shape, name)\u001b[0m\n\u001b[1;32m    194\u001b[0m     \u001b[0mA\u001b[0m\u001b[0;31m \u001b[0m\u001b[0;31m`\u001b[0m\u001b[0mTensor\u001b[0m\u001b[0;31m`\u001b[0m\u001b[0;34m.\u001b[0m \u001b[0mHas\u001b[0m \u001b[0mthe\u001b[0m \u001b[0msame\u001b[0m \u001b[0mtype\u001b[0m \u001b[0;32mas\u001b[0m\u001b[0;31m \u001b[0m\u001b[0;31m`\u001b[0m\u001b[0mtensor\u001b[0m\u001b[0;31m`\u001b[0m\u001b[0;34m.\u001b[0m\u001b[0;34m\u001b[0m\u001b[0;34m\u001b[0m\u001b[0m\n\u001b[1;32m    195\u001b[0m   \"\"\"\n\u001b[0;32m--> 196\u001b[0;31m   \u001b[0mresult\u001b[0m \u001b[0;34m=\u001b[0m \u001b[0mgen_array_ops\u001b[0m\u001b[0;34m.\u001b[0m\u001b[0mreshape\u001b[0m\u001b[0;34m(\u001b[0m\u001b[0mtensor\u001b[0m\u001b[0;34m,\u001b[0m \u001b[0mshape\u001b[0m\u001b[0;34m,\u001b[0m \u001b[0mname\u001b[0m\u001b[0;34m)\u001b[0m\u001b[0;34m\u001b[0m\u001b[0;34m\u001b[0m\u001b[0m\n\u001b[0m\u001b[1;32m    197\u001b[0m   \u001b[0mtensor_util\u001b[0m\u001b[0;34m.\u001b[0m\u001b[0mmaybe_set_static_shape\u001b[0m\u001b[0;34m(\u001b[0m\u001b[0mresult\u001b[0m\u001b[0;34m,\u001b[0m \u001b[0mshape\u001b[0m\u001b[0;34m)\u001b[0m\u001b[0;34m\u001b[0m\u001b[0;34m\u001b[0m\u001b[0m\n\u001b[1;32m    198\u001b[0m   \u001b[0;32mreturn\u001b[0m \u001b[0mresult\u001b[0m\u001b[0;34m\u001b[0m\u001b[0;34m\u001b[0m\u001b[0m\n",
      "\u001b[0;32m~/anaconda3/envs/BCS/lib/python3.9/site-packages/tensorflow/python/ops/gen_array_ops.py\u001b[0m in \u001b[0;36mreshape\u001b[0;34m(tensor, shape, name)\u001b[0m\n\u001b[1;32m   8396\u001b[0m       \u001b[0;32mpass\u001b[0m\u001b[0;34m\u001b[0m\u001b[0;34m\u001b[0m\u001b[0m\n\u001b[1;32m   8397\u001b[0m     \u001b[0;32mtry\u001b[0m\u001b[0;34m:\u001b[0m\u001b[0;34m\u001b[0m\u001b[0;34m\u001b[0m\u001b[0m\n\u001b[0;32m-> 8398\u001b[0;31m       return reshape_eager_fallback(\n\u001b[0m\u001b[1;32m   8399\u001b[0m           tensor, shape, name=name, ctx=_ctx)\n\u001b[1;32m   8400\u001b[0m     \u001b[0;32mexcept\u001b[0m \u001b[0m_core\u001b[0m\u001b[0;34m.\u001b[0m\u001b[0m_SymbolicException\u001b[0m\u001b[0;34m:\u001b[0m\u001b[0;34m\u001b[0m\u001b[0;34m\u001b[0m\u001b[0m\n",
      "\u001b[0;32m~/anaconda3/envs/BCS/lib/python3.9/site-packages/tensorflow/python/ops/gen_array_ops.py\u001b[0m in \u001b[0;36mreshape_eager_fallback\u001b[0;34m(tensor, shape, name, ctx)\u001b[0m\n\u001b[1;32m   8421\u001b[0m   \u001b[0m_inputs_flat\u001b[0m \u001b[0;34m=\u001b[0m \u001b[0;34m[\u001b[0m\u001b[0mtensor\u001b[0m\u001b[0;34m,\u001b[0m \u001b[0mshape\u001b[0m\u001b[0;34m]\u001b[0m\u001b[0;34m\u001b[0m\u001b[0;34m\u001b[0m\u001b[0m\n\u001b[1;32m   8422\u001b[0m   \u001b[0m_attrs\u001b[0m \u001b[0;34m=\u001b[0m \u001b[0;34m(\u001b[0m\u001b[0;34m\"T\"\u001b[0m\u001b[0;34m,\u001b[0m \u001b[0m_attr_T\u001b[0m\u001b[0;34m,\u001b[0m \u001b[0;34m\"Tshape\"\u001b[0m\u001b[0;34m,\u001b[0m \u001b[0m_attr_Tshape\u001b[0m\u001b[0;34m)\u001b[0m\u001b[0;34m\u001b[0m\u001b[0;34m\u001b[0m\u001b[0m\n\u001b[0;32m-> 8423\u001b[0;31m   _result = _execute.execute(b\"Reshape\", 1, inputs=_inputs_flat, attrs=_attrs,\n\u001b[0m\u001b[1;32m   8424\u001b[0m                              ctx=ctx, name=name)\n\u001b[1;32m   8425\u001b[0m   \u001b[0;32mif\u001b[0m \u001b[0m_execute\u001b[0m\u001b[0;34m.\u001b[0m\u001b[0mmust_record_gradient\u001b[0m\u001b[0;34m(\u001b[0m\u001b[0;34m)\u001b[0m\u001b[0;34m:\u001b[0m\u001b[0;34m\u001b[0m\u001b[0;34m\u001b[0m\u001b[0m\n",
      "\u001b[0;32m~/anaconda3/envs/BCS/lib/python3.9/site-packages/tensorflow/python/eager/execute.py\u001b[0m in \u001b[0;36mquick_execute\u001b[0;34m(op_name, num_outputs, inputs, attrs, ctx, name)\u001b[0m\n\u001b[1;32m     57\u001b[0m   \u001b[0;32mtry\u001b[0m\u001b[0;34m:\u001b[0m\u001b[0;34m\u001b[0m\u001b[0;34m\u001b[0m\u001b[0m\n\u001b[1;32m     58\u001b[0m     \u001b[0mctx\u001b[0m\u001b[0;34m.\u001b[0m\u001b[0mensure_initialized\u001b[0m\u001b[0;34m(\u001b[0m\u001b[0;34m)\u001b[0m\u001b[0;34m\u001b[0m\u001b[0;34m\u001b[0m\u001b[0m\n\u001b[0;32m---> 59\u001b[0;31m     tensors = pywrap_tfe.TFE_Py_Execute(ctx._handle, device_name, op_name,\n\u001b[0m\u001b[1;32m     60\u001b[0m                                         inputs, attrs, num_outputs)\n\u001b[1;32m     61\u001b[0m   \u001b[0;32mexcept\u001b[0m \u001b[0mcore\u001b[0m\u001b[0;34m.\u001b[0m\u001b[0m_NotOkStatusException\u001b[0m \u001b[0;32mas\u001b[0m \u001b[0me\u001b[0m\u001b[0;34m:\u001b[0m\u001b[0;34m\u001b[0m\u001b[0;34m\u001b[0m\u001b[0m\n",
      "\u001b[0;31mInvalidArgumentError\u001b[0m: Input to reshape is a tensor with 1800 values, but the requested shape has 1200 [Op:Reshape]"
     ]
    }
   ],
   "source": [
    "#Testing residues\n",
    "utt=tf.reshape(utt,[utt.shape[0],2])\n",
    "ytt=tf.convert_to_tensor((Xk[0:3,:].T), dtype=tf.float32)\n",
    "fq,zc=utt[:,0:1],utt[:,1:]\n",
    "print(fq.shape)\n",
    "pbh,pwh,q=yn[:,0:1],yn[:,1:2],yn[:,2:]\n",
    "ddy=dydt(tf.reshape(yn,[1,yn.shape[0],3]),1.0)\n",
    "\n"
   ]
  },
  {
   "cell_type": "code",
   "execution_count": null,
   "metadata": {},
   "outputs": [],
   "source": [
    "q0 = (q*qc+qmin) / Cq * (f0 / fq)\n",
    "H0 = -1.2454e6 * q0 ** 2.0 + 7.4959e3 * q0 + 9.5970e2\n",
    "H = CH * H0 * (fq / f0) ** 2.0  # Head\n",
    "F1 = 0.158 * ((rho* L1 * ((q*qc+qmin)) ** 2.0) / (D1 * A1 ** 2.0)) * (mu / (rho* D1 * ((q*qc+qmin)))) ** (1.0/4.0)\n",
    "F2 = 0.158 * ((rho * L2 * ((q*qc+qmin)) ** 2.0) / (D2 * A2 ** 2.0)) * (mu / (rho* D2 * ((q*qc+qmin)))) ** (1.0/4.0)\n",
    "qr = PI * (pr - (pbh*pbc+pbmin))\n",
    "qch = (zc/100.0)*Cc * tf.sqrt(tf.abs(pwh*pwc+pwmin - pm));\n",
    "##########################\n",
    "qch=(qch-qch_lim[0])/qcc\n",
    "F1=(F1-F1lim[0])/F1c\n",
    "F2=(F2-F2lim[0])/F2c\n",
    "H=(H-H_lim[0])/Hc\n",
    "#print((zc/100.0)*Cc)\n",
    "print('#############')\n",
    "print(tf.reduce_mean(tf.square(F1)))\n",
    "print(tf.reduce_mean(tf.square(F2)))\n",
    "print(tf.reduce_mean(tf.square(qch)))\n",
    "print('#############')\n",
    "###########################\n",
    "#return pbh,pwh  # - (1/(qc*M))*(pbh*pbc+pbmin - (pwh*pwc+pwmin) - rho*g*hw - (F1c*F1+F1lim[0]) - (F2c*F2+F2lim[0]) +  rho* g * (H*Hc+H_lim[0]))\n",
    "dy1=- (1/pbc)*b1/V1*(qr - (q*qc+qmin))\n",
    "dy2=- (1/pwc)*b2/V2*((q*qc+qmin) - (qcc*qch+qch_lim[0]))\n",
    "dy3=- (1/(qc*M))*(pbh*pbc+pbmin - (pwh*pwc+pwmin) - rho*g*hw - (F1c*F1+F1lim[0]) - (F2c*F2+F2lim[0]) +  rho* g * (H*Hc+H_lim[0]))\n",
    "print(tf.reduce_mean(tf.square(ddy[0,:,0:1]+dy1)))\n",
    "print(tf.reduce_mean(tf.square(ddy[0,:,1:2]+dy2)))\n",
    "print(tf.reduce_mean(tf.square(ddy[0,:,2:]+dy3)))"
   ]
  },
  {
   "cell_type": "code",
   "execution_count": null,
   "metadata": {},
   "outputs": [],
   "source": [
    "F2c,F1c,Hc"
   ]
  }
 ],
 "metadata": {
  "interpreter": {
   "hash": "b797e030574f33a5ed9740f772301991f2e7ad332878e65ebeae86f627530e78"
  },
  "kernelspec": {
   "display_name": "Python 3.9.2 64-bit ('BCS': conda)",
   "name": "python3"
  },
  "language_info": {
   "codemirror_mode": {
    "name": "ipython",
    "version": 3
   },
   "file_extension": ".py",
   "mimetype": "text/x-python",
   "name": "python",
   "nbconvert_exporter": "python",
   "pygments_lexer": "ipython3",
   "version": "3.9.2"
  }
 },
 "nbformat": 4,
 "nbformat_minor": 1
}
